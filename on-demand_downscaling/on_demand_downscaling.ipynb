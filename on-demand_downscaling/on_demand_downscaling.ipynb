{
 "cells": [
  {
   "cell_type": "markdown",
   "metadata": {},
   "source": [
    "# on_demand_downscaling\n",
    "\n",
    "#### This notebook facilitates the workflow for the on-demand downscaling project. Before reading and running the notebook, please read through the `README.md` file. It contains instructions for how to run the notebook, details about the major sections, and some additional information. To open `README.md` in \"Preview\" mode for easier readability, right click on `README.md` at the left of the page, then select <b>Open With&rarr;Markdown Preview</b>."
   ]
  },
  {
   "cell_type": "markdown",
   "metadata": {},
   "source": [
    "### I. Import `helpers` module to enable loading the interactive map later."
   ]
  },
  {
   "cell_type": "code",
   "execution_count": 1,
   "metadata": {},
   "outputs": [],
   "source": [
    "import helpers\n",
    "from helpers import *"
   ]
  },
  {
   "cell_type": "markdown",
   "metadata": {},
   "source": [
    "### II (Optional). Check `url`s used to connect to chickadee/finch."
   ]
  },
  {
   "cell_type": "code",
   "execution_count": 2,
   "metadata": {},
   "outputs": [
    {
     "name": "stdout",
     "output_type": "stream",
     "text": [
      "Using chickadee on http://marble-dev01.pcic.uvic.ca:30102\n",
      "Using finch on https://marble-dev01.pcic.uvic.ca/twitcher/ows/proxy/finch/wps\n"
     ]
    }
   ],
   "source": [
    "# NBVAL_IGNORE_OUTPUT\n",
    "print(f\"Using chickadee on {chickadee_url}\")\n",
    "print(f\"Using finch on {finch_url}\")"
   ]
  },
  {
   "cell_type": "markdown",
   "metadata": {},
   "source": [
    "### III (Optional). Display help for individual processes by using the ? command (ex. bird.process?)."
   ]
  },
  {
   "cell_type": "code",
   "execution_count": 3,
   "metadata": {},
   "outputs": [
    {
     "data": {
      "text/plain": [
       "\u001b[0;31mSignature:\u001b[0m\n",
       "\u001b[0mchickadee\u001b[0m\u001b[0;34m.\u001b[0m\u001b[0mci\u001b[0m\u001b[0;34m(\u001b[0m\u001b[0;34m\u001b[0m\n",
       "\u001b[0;34m\u001b[0m    \u001b[0mgcm_file\u001b[0m\u001b[0;34m,\u001b[0m\u001b[0;34m\u001b[0m\n",
       "\u001b[0;34m\u001b[0m    \u001b[0mobs_file\u001b[0m\u001b[0;34m,\u001b[0m\u001b[0;34m\u001b[0m\n",
       "\u001b[0;34m\u001b[0m    \u001b[0mgcm_varname\u001b[0m\u001b[0;34m=\u001b[0m\u001b[0;32mNone\u001b[0m\u001b[0;34m,\u001b[0m\u001b[0;34m\u001b[0m\n",
       "\u001b[0;34m\u001b[0m    \u001b[0mobs_varname\u001b[0m\u001b[0;34m=\u001b[0m\u001b[0;32mNone\u001b[0m\u001b[0;34m,\u001b[0m\u001b[0;34m\u001b[0m\n",
       "\u001b[0;34m\u001b[0m    \u001b[0mnum_cores\u001b[0m\u001b[0;34m=\u001b[0m\u001b[0;34m'4'\u001b[0m\u001b[0;34m,\u001b[0m\u001b[0;34m\u001b[0m\n",
       "\u001b[0;34m\u001b[0m    \u001b[0mloglevel\u001b[0m\u001b[0;34m=\u001b[0m\u001b[0;34m'INFO'\u001b[0m\u001b[0;34m,\u001b[0m\u001b[0;34m\u001b[0m\n",
       "\u001b[0;34m\u001b[0m    \u001b[0munits_bool\u001b[0m\u001b[0;34m=\u001b[0m\u001b[0;32mTrue\u001b[0m\u001b[0;34m,\u001b[0m\u001b[0;34m\u001b[0m\n",
       "\u001b[0;34m\u001b[0m    \u001b[0mn_pr_bool\u001b[0m\u001b[0;34m=\u001b[0m\u001b[0;32mTrue\u001b[0m\u001b[0;34m,\u001b[0m\u001b[0;34m\u001b[0m\n",
       "\u001b[0;34m\u001b[0m    \u001b[0mtasmax_units\u001b[0m\u001b[0;34m=\u001b[0m\u001b[0;34m'celsius'\u001b[0m\u001b[0;34m,\u001b[0m\u001b[0;34m\u001b[0m\n",
       "\u001b[0;34m\u001b[0m    \u001b[0mtasmin_units\u001b[0m\u001b[0;34m=\u001b[0m\u001b[0;34m'celsius'\u001b[0m\u001b[0;34m,\u001b[0m\u001b[0;34m\u001b[0m\n",
       "\u001b[0;34m\u001b[0m    \u001b[0mtg_units\u001b[0m\u001b[0;34m=\u001b[0m\u001b[0;34m'celsius'\u001b[0m\u001b[0;34m,\u001b[0m\u001b[0;34m\u001b[0m\n",
       "\u001b[0;34m\u001b[0m    \u001b[0mpr_units\u001b[0m\u001b[0;34m=\u001b[0m\u001b[0;34m'kg m-2 d-1'\u001b[0m\u001b[0;34m,\u001b[0m\u001b[0;34m\u001b[0m\n",
       "\u001b[0;34m\u001b[0m    \u001b[0mmax_gb\u001b[0m\u001b[0;34m=\u001b[0m\u001b[0;36m1.0\u001b[0m\u001b[0;34m,\u001b[0m\u001b[0;34m\u001b[0m\n",
       "\u001b[0;34m\u001b[0m    \u001b[0mstart_date\u001b[0m\u001b[0;34m=\u001b[0m\u001b[0mdatetime\u001b[0m\u001b[0;34m.\u001b[0m\u001b[0mdate\u001b[0m\u001b[0;34m(\u001b[0m\u001b[0;36m1971\u001b[0m\u001b[0;34m,\u001b[0m \u001b[0;36m1\u001b[0m\u001b[0;34m,\u001b[0m \u001b[0;36m1\u001b[0m\u001b[0;34m)\u001b[0m\u001b[0;34m,\u001b[0m\u001b[0;34m\u001b[0m\n",
       "\u001b[0;34m\u001b[0m    \u001b[0mend_date\u001b[0m\u001b[0;34m=\u001b[0m\u001b[0mdatetime\u001b[0m\u001b[0;34m.\u001b[0m\u001b[0mdate\u001b[0m\u001b[0;34m(\u001b[0m\u001b[0;36m2005\u001b[0m\u001b[0;34m,\u001b[0m \u001b[0;36m12\u001b[0m\u001b[0;34m,\u001b[0m \u001b[0;36m31\u001b[0m\u001b[0;34m)\u001b[0m\u001b[0;34m,\u001b[0m\u001b[0;34m\u001b[0m\n",
       "\u001b[0;34m\u001b[0m    \u001b[0mout_file\u001b[0m\u001b[0;34m=\u001b[0m\u001b[0;32mNone\u001b[0m\u001b[0;34m,\u001b[0m\u001b[0;34m\u001b[0m\n",
       "\u001b[0;34m\u001b[0m\u001b[0;34m)\u001b[0m\u001b[0;34m\u001b[0m\u001b[0;34m\u001b[0m\u001b[0m\n",
       "\u001b[0;31mDocstring:\u001b[0m\n",
       "Climate Imprint (CI) downscaling\n",
       "\n",
       "Parameters\n",
       "----------\n",
       "gcm_file : ComplexData:mimetype:`application/x-netcdf`, :mimetype:`application/x-ogc-dods`\n",
       "    Filename of GCM simulations\n",
       "obs_file : ComplexData:mimetype:`application/x-netcdf`, :mimetype:`application/x-ogc-dods`\n",
       "    Filename of high-res gridded historical observations\n",
       "out_file : string\n",
       "    Filename to create with the climate imprint outputs\n",
       "num_cores : {'1', '2', '3', '4'}positiveInteger\n",
       "    The number of cores to use for parallel execution\n",
       "loglevel : {'CRITICAL', 'ERROR', 'WARNING', 'INFO', 'DEBUG', 'NOTSET'}string\n",
       "    Logging level\n",
       "units_bool : boolean\n",
       "    Check the input units and convert them to the target output units\n",
       "n_pr_bool : boolean\n",
       "    Check for and eliminate negative precipitation values\n",
       "tasmax_units : string\n",
       "    Units used for tasmax in output file\n",
       "tasmin_units : string\n",
       "    Units used for tasmin in output file\n",
       "tg_units : string\n",
       "    Units used for tg (tasmean) in output file\n",
       "pr_units : string\n",
       "    Units used for pr in output file\n",
       "max_gb : float\n",
       "    Anapproximately how much RAM to use in the chunk I/O loop. It’s best to set this to about 1/3 to 1/4 of what you want the high-water mark to be\n",
       "start_date : date\n",
       "    Defines the stat of the calibration period\n",
       "end_date : date\n",
       "    Defines the end of the calibration period\n",
       "gcm_varname : string\n",
       "    Name of the GCM NetCDF variable to downscale (e.g. 'tasmax')\n",
       "obs_varname : string\n",
       "    Name of the NetCDF variable to downscale given in the observations file (e.g. 'tmax')\n",
       "\n",
       "Returns\n",
       "-------\n",
       "output : ComplexData:mimetype:`application/x-netcdf`\n",
       "    Output Netcdf File\n",
       "\u001b[0;31mFile:\u001b[0m      ~/code/chickadee/notebooks/on-demand_downscaling/</home/eyvorchuk/code/chickadee/chickadee-venv/lib/python3.10/site-packages/birdy/client/base.py-1>\n",
       "\u001b[0;31mType:\u001b[0m      method"
      ]
     },
     "metadata": {},
     "output_type": "display_data"
    }
   ],
   "source": [
    "# NBVAL_IGNORE_OUTPUT\n",
    "chickadee.ci?"
   ]
  },
  {
   "cell_type": "code",
   "execution_count": 4,
   "metadata": {},
   "outputs": [
    {
     "data": {
      "text/plain": [
       "\u001b[0;31mSignature:\u001b[0m\n",
       "\u001b[0mfinch\u001b[0m\u001b[0;34m.\u001b[0m\u001b[0mtg\u001b[0m\u001b[0;34m(\u001b[0m\u001b[0;34m\u001b[0m\n",
       "\u001b[0;34m\u001b[0m    \u001b[0mtasmin\u001b[0m\u001b[0;34m=\u001b[0m\u001b[0;32mNone\u001b[0m\u001b[0;34m,\u001b[0m\u001b[0;34m\u001b[0m\n",
       "\u001b[0;34m\u001b[0m    \u001b[0mtasmax\u001b[0m\u001b[0;34m=\u001b[0m\u001b[0;32mNone\u001b[0m\u001b[0;34m,\u001b[0m\u001b[0;34m\u001b[0m\n",
       "\u001b[0;34m\u001b[0m    \u001b[0mcheck_missing\u001b[0m\u001b[0;34m=\u001b[0m\u001b[0;34m'any'\u001b[0m\u001b[0;34m,\u001b[0m\u001b[0;34m\u001b[0m\n",
       "\u001b[0;34m\u001b[0m    \u001b[0mmissing_options\u001b[0m\u001b[0;34m=\u001b[0m\u001b[0;32mNone\u001b[0m\u001b[0;34m,\u001b[0m\u001b[0;34m\u001b[0m\n",
       "\u001b[0;34m\u001b[0m    \u001b[0mcf_compliance\u001b[0m\u001b[0;34m=\u001b[0m\u001b[0;34m'warn'\u001b[0m\u001b[0;34m,\u001b[0m\u001b[0;34m\u001b[0m\n",
       "\u001b[0;34m\u001b[0m    \u001b[0mdata_validation\u001b[0m\u001b[0;34m=\u001b[0m\u001b[0;34m'raise'\u001b[0m\u001b[0;34m,\u001b[0m\u001b[0;34m\u001b[0m\n",
       "\u001b[0;34m\u001b[0m    \u001b[0mvariable\u001b[0m\u001b[0;34m=\u001b[0m\u001b[0;32mNone\u001b[0m\u001b[0;34m,\u001b[0m\u001b[0;34m\u001b[0m\n",
       "\u001b[0;34m\u001b[0m    \u001b[0moutput_name\u001b[0m\u001b[0;34m=\u001b[0m\u001b[0;32mNone\u001b[0m\u001b[0;34m,\u001b[0m\u001b[0;34m\u001b[0m\n",
       "\u001b[0;34m\u001b[0m    \u001b[0moutput_format\u001b[0m\u001b[0;34m=\u001b[0m\u001b[0;34m'netcdf'\u001b[0m\u001b[0;34m,\u001b[0m\u001b[0;34m\u001b[0m\n",
       "\u001b[0;34m\u001b[0m    \u001b[0mcsv_precision\u001b[0m\u001b[0;34m=\u001b[0m\u001b[0;32mNone\u001b[0m\u001b[0;34m,\u001b[0m\u001b[0;34m\u001b[0m\n",
       "\u001b[0;34m\u001b[0m    \u001b[0moutput_formats\u001b[0m\u001b[0;34m=\u001b[0m\u001b[0;32mNone\u001b[0m\u001b[0;34m,\u001b[0m\u001b[0;34m\u001b[0m\n",
       "\u001b[0;34m\u001b[0m\u001b[0;34m)\u001b[0m\u001b[0;34m\u001b[0m\u001b[0;34m\u001b[0m\u001b[0m\n",
       "\u001b[0;31mDocstring:\u001b[0m\n",
       "We assume a symmetrical distribution for the temperature and retrieve the average value as Tg = (Tx + Tn) / 2\n",
       "\n",
       "Parameters\n",
       "----------\n",
       "tasmin : ComplexData:mimetype:`application/x-netcdf`, :mimetype:`application/x-ogc-dods`\n",
       "    NetCDF Files or archive (tar/zip) containing netCDF files. Minimum surface temperature.\n",
       "tasmax : ComplexData:mimetype:`application/x-netcdf`, :mimetype:`application/x-ogc-dods`\n",
       "    NetCDF Files or archive (tar/zip) containing netCDF files. Maximum surface temperature.\n",
       "check_missing : {'any', 'wmo', 'pct', 'at_least_n', 'skip', 'from_context'}string\n",
       "    Method used to determine which aggregations should be considered missing.\n",
       "missing_options : ComplexData:mimetype:`application/json`\n",
       "    JSON representation of dictionary of missing method parameters.\n",
       "cf_compliance : {'log', 'warn', 'raise'}string\n",
       "    Whether to log, warn or raise when inputs have non-CF-compliant attributes.\n",
       "data_validation : {'log', 'warn', 'raise'}string\n",
       "    Whether to log, warn or raise when inputs fail data validation checks.\n",
       "variable : string\n",
       "    Name of the variable in the NetCDF file.\n",
       "output_name : string\n",
       "    Filename of the output (no extension).\n",
       "output_format : {'netcdf', 'csv'}string\n",
       "    Choose in which format you want to receive the result. CSV actually means a zip file of two csv files.\n",
       "csv_precision : integer\n",
       "    Only valid if output_format is CSV. If not set, all decimal places of a 64 bit floating precision number are printed. If negative, rounds before the decimal point.\n",
       "\n",
       "Returns\n",
       "-------\n",
       "output : ComplexData:mimetype:`application/x-netcdf`, :mimetype:`application/zip`\n",
       "    The format depends on the 'output_format' input parameter.\n",
       "output_log : ComplexData:mimetype:`text/plain`\n",
       "    Collected logs during process run.\n",
       "ref : ComplexData:mimetype:`application/metalink+xml; version=4.0`\n",
       "    Metalink file storing all references to output files.\n",
       "\u001b[0;31mFile:\u001b[0m      ~/code/chickadee/notebooks/on-demand_downscaling/</home/eyvorchuk/code/chickadee/chickadee-venv/lib/python3.10/site-packages/birdy/client/base.py-7>\n",
       "\u001b[0;31mType:\u001b[0m      method"
      ]
     },
     "metadata": {},
     "output_type": "display_data"
    }
   ],
   "source": [
    "# NBVAL_IGNORE_OUTPUT\n",
    "finch.tg?"
   ]
  },
  {
   "cell_type": "markdown",
   "metadata": {},
   "source": [
    "### IV. Load the interactive map to initialize the inputs. Refer to [step 1 of `README.md`](http://localhost:8890/lab/tree/notebooks/on-demand_downscaling/README.md#1.-Downscaling-GCM-Data) for more information about the inputs.\n",
    "\n",
    "#### Once the inputs are initialized, you can click the `Run Downscaling` button to start the downscaling process.\n",
    "#### Alternatively, if you wish to inspect pre-computed outputs from this process, you can skip to <b>step V</b> and run the `use_default_downscaled_outputs` cell. Refer to the [`Additional Information` section of `README.md`](http://localhost:8890/lab/tree/notebooks/on-demand_downscaling/README.md#Pre-computed-Outputs) for more information about these outputs."
   ]
  },
  {
   "cell_type": "code",
   "execution_count": 5,
   "metadata": {},
   "outputs": [
    {
     "data": {
      "application/vnd.jupyter.widget-view+json": {
       "model_id": "1cf46bfa983c424981ca33f05a1be421",
       "version_major": 2,
       "version_minor": 0
      },
      "text/plain": [
       "AppLayout(children=(Box(children=(Text(value='', placeholder=''), Text(value='', description='Center:', placeh…"
      ]
     },
     "metadata": {},
     "output_type": "display_data"
    },
    {
     "data": {
      "application/vnd.jupyter.widget-view+json": {
       "model_id": "2dd14f68d6db4789afef020a55182c3a",
       "version_major": 2,
       "version_minor": 0
      },
      "text/plain": [
       "Output()"
      ]
     },
     "metadata": {},
     "output_type": "display_data"
    }
   ],
   "source": [
    "display(AppLayout(center = m, right_sidebar = control_box_downscaling, align_items = 'center'))\n",
    "display(output_widget_downscaling)"
   ]
  },
  {
   "cell_type": "markdown",
   "metadata": {},
   "source": [
    "### V (Optional). Check status of processes and load/store the outputs if possible.\n",
    "\n",
    "#### Alternatively, you can run the `use_default_downscaled_outputs` cell to obtain pre-computed downscaled outputs."
   ]
  },
  {
   "cell_type": "code",
   "execution_count": 6,
   "metadata": {},
   "outputs": [],
   "source": [
    "use_default_downscaled_outputs()"
   ]
  },
  {
   "cell_type": "code",
   "execution_count": 7,
   "metadata": {},
   "outputs": [
    {
     "name": "stdout",
     "output_type": "stream",
     "text": [
      "Process status: ProcessSucceeded\n",
      "Link to process output: https://marble-dev01.pcic.uvic.ca/twitcher/ows/proxy/thredds/fileServer/datasets/storage/data/projects/comp_support/daccs/test-data/chickadee_CI_outputs/pr_PNWNAmet_target_198101-201012_on-demand.nc\n",
      "<class 'netCDF4._netCDF4.Dataset'>\n",
      "root group (NETCDF3_CLASSIC data model, file format DAP2):\n",
      "    DODS_EXTRA.Unlimited_Dimension: time\n",
      "    dimensions(sizes): time(24837), lat(301), lon(301)\n",
      "    variables(dimensions): float64 lon(lon), float64 lat(lat), float64 time(time), float32 pr(time, lat, lon)\n",
      "    groups: \n",
      "\n",
      "Process status: ProcessSucceeded\n",
      "Link to process output: https://marble-dev01.pcic.uvic.ca/twitcher/ows/proxy/thredds/fileServer/datasets/storage/data/projects/comp_support/daccs/test-data/chickadee_CI_outputs/tasmax_PNWNAmet_target_198101-201012_on-demand.nc\n",
      "<class 'netCDF4._netCDF4.Dataset'>\n",
      "root group (NETCDF3_CLASSIC data model, file format DAP2):\n",
      "    DODS_EXTRA.Unlimited_Dimension: time\n",
      "    dimensions(sizes): time(24837), lat(301), lon(301)\n",
      "    variables(dimensions): float64 lon(lon), float64 lat(lat), float64 time(time), float32 tasmax(time, lat, lon)\n",
      "    groups: \n",
      "\n",
      "Process status: ProcessSucceeded\n",
      "Link to process output: https://marble-dev01.pcic.uvic.ca/twitcher/ows/proxy/thredds/fileServer/datasets/storage/data/projects/comp_support/daccs/test-data/chickadee_CI_outputs/tasmin_PNWNAmet_target_198101-201012_on-demand.nc\n",
      "<class 'netCDF4._netCDF4.Dataset'>\n",
      "root group (NETCDF3_CLASSIC data model, file format DAP2):\n",
      "    DODS_EXTRA.Unlimited_Dimension: time\n",
      "    dimensions(sizes): time(24837), lat(301), lon(301)\n",
      "    variables(dimensions): float64 lon(lon), float64 lat(lat), float64 time(time), float32 tasmin(time, lat, lon)\n",
      "    groups: \n",
      "\n",
      "Process status: ProcessSucceeded\n",
      "Link to process output: https://marble-dev01.pcic.uvic.ca/wpsoutputs/0dcb917e-1ed0-11ef-a458-0242ac120006/tasmean_PNWNAmet_target_198101-201012_on-demand.nc\n",
      "<class 'netCDF4._netCDF4.Dataset'>\n",
      "root group (NETCDF3_CLASSIC data model, file format DAP2):\n",
      "    DODS_EXTRA.Unlimited_Dimension: time\n",
      "    dimensions(sizes): time(24837), lat(301), lon(301)\n",
      "    variables(dimensions): float64 lon(lon), float64 lat(lat), float64 time(time), float32 tg(time, lat, lon)\n",
      "    groups: \n",
      "\n",
      "Process status: ProcessSucceeded\n",
      "Link to process output: https://marble-dev01.pcic.uvic.ca/twitcher/ows/proxy/thredds/fileServer/datasets/storage/data/projects/comp_support/daccs/test-data/chickadee_CI_outputs/tasmean_PNWNAmet_target_198101-201012_on-demand.nc\n",
      "<class 'netCDF4._netCDF4.Dataset'>\n",
      "root group (NETCDF3_CLASSIC data model, file format DAP2):\n",
      "    DODS_EXTRA.Unlimited_Dimension: time\n",
      "    dimensions(sizes): time(24837), lat(301), lon(301)\n",
      "    variables(dimensions): float64 lon(lon), float64 lat(lat), float64 time(time), float32 tg(time, lat, lon)\n",
      "    groups: \n",
      "\n"
     ]
    }
   ],
   "source": [
    "downscaled_outputs_dsets = []\n",
    "for var in helpers.downscaled_outputs.keys():\n",
    "    for output in helpers.downscaled_outputs[var]:\n",
    "        get_output(output)\n",
    "        if output.isComplete():\n",
    "            downscaled_output_dset = output_to_dataset(output)\n",
    "            downscaled_outputs_dsets.append(downscaled_output_dset)\n",
    "            print(downscaled_output_dset)\n",
    "            print()"
   ]
  },
  {
   "cell_type": "markdown",
   "metadata": {},
   "source": [
    "### VI. Once downscaling processes are complete, select output files from which climate indices will be computed. Refer to [step 2 of `README.md`](http://localhost:8890/lab/tree/notebooks/on-demand_downscaling/README.md#2.-Computing-Climate-Indices) for more information about the available indices.\n",
    "\n",
    "#### Once the inputs are initialized, you can click the `Calculate Indices` button to start the processes.\n",
    "#### Similarly to the downscaling section, you can instead examine pre-computed climate indices by skipping to <b>step VII</b> and running the `use_default_index_outputs` cell."
   ]
  },
  {
   "cell_type": "code",
   "execution_count": 8,
   "metadata": {},
   "outputs": [
    {
     "data": {
      "application/vnd.jupyter.widget-view+json": {
       "model_id": "946f1af9f1e84128a58d1a2b32d5d3dc",
       "version_major": 2,
       "version_minor": 0
      },
      "text/plain": [
       "VBox(children=(HTML(value='<b>pr</b>', style=HTMLStyle(description_width='initial')), Checkbox(value=False, de…"
      ]
     },
     "metadata": {},
     "output_type": "display_data"
    },
    {
     "data": {
      "application/vnd.jupyter.widget-view+json": {
       "model_id": "bb36357cd48a458f8cb1d092772f9b89",
       "version_major": 2,
       "version_minor": 0
      },
      "text/plain": [
       "HBox(children=(VBox(children=(HTML(value='<b>Precipitation Indices</b>', style=HTMLStyle(description_width='in…"
      ]
     },
     "metadata": {},
     "output_type": "display_data"
    },
    {
     "data": {
      "application/vnd.jupyter.widget-view+json": {
       "model_id": "e315495e3bd043c78015167571a8b011",
       "version_major": 2,
       "version_minor": 0
      },
      "text/plain": [
       "Button(button_style='info', description='Calculate Indices', style=ButtonStyle(), tooltip=\"Click 'Run' to star…"
      ]
     },
     "metadata": {},
     "output_type": "display_data"
    },
    {
     "data": {
      "application/vnd.jupyter.widget-view+json": {
       "model_id": "acf9f176a3814d6b9239855e61e25627",
       "version_major": 2,
       "version_minor": 0
      },
      "text/plain": [
       "Output()"
      ]
     },
     "metadata": {},
     "output_type": "display_data"
    }
   ],
   "source": [
    "display_downscaled_outputs()\n",
    "display(helpers.downscaled_output_box, indices, calc_indices)\n",
    "display(output_widget_indices)"
   ]
  },
  {
   "cell_type": "markdown",
   "metadata": {},
   "source": [
    "### VII. As for the downscaling section, check the statuses of the index calculation processes and load/store the outputs if possible.\n",
    "\n",
    "#### Alternatively, you can run the `use_default_index_outputs` cell to obtain pre-computed index outputs."
   ]
  },
  {
   "cell_type": "code",
   "execution_count": 9,
   "metadata": {},
   "outputs": [],
   "source": [
    "use_default_index_outputs()"
   ]
  },
  {
   "cell_type": "code",
   "execution_count": 10,
   "metadata": {},
   "outputs": [
    {
     "name": "stdout",
     "output_type": "stream",
     "text": [
      "Process status: ProcessSucceeded\n",
      "Link to process output: https://marble-dev01.pcic.uvic.ca/wpsoutputs/finch/1170613a-1ed3-11ef-bf70-0242ac120009/prcptot_annual.nc\n",
      "<class 'netCDF4._netCDF4.Dataset'>\n",
      "root group (NETCDF3_CLASSIC data model, file format DAP2):\n",
      "    DODS_EXTRA.Unlimited_Dimension: time\n",
      "    climateindex_package_id: https://github.com/Ouranosinc/xclim\n",
      "    product: derived climate index\n",
      "    contact: Canadian Centre for Climate Services\n",
      "    institute_id: CCCS\n",
      "    institution: Canadian Centre for Climate Services (CCCS)\n",
      "    dimensions(sizes): time(68), lat(301), lon(301)\n",
      "    variables(dimensions): float32 time(time), float64 lat(lat), float64 lon(lon), float32 wet_prcptot(time, lat, lon)\n",
      "    groups: \n",
      "\n",
      "Process status: ProcessSucceeded\n",
      "Link to process output: https://marble-dev01.pcic.uvic.ca/wpsoutputs/finch/11a47f06-1ed3-11ef-bf70-0242ac120009/summer_days_25c_seasonal.nc\n",
      "<class 'netCDF4._netCDF4.Dataset'>\n",
      "root group (NETCDF3_CLASSIC data model, file format DAP2):\n",
      "    DODS_EXTRA.Unlimited_Dimension: time\n",
      "    climateindex_package_id: https://github.com/Ouranosinc/xclim\n",
      "    product: derived climate index\n",
      "    contact: Canadian Centre for Climate Services\n",
      "    institute_id: CCCS\n",
      "    institution: Canadian Centre for Climate Services (CCCS)\n",
      "    dimensions(sizes): time(273), lat(301), lon(301)\n",
      "    variables(dimensions): float32 time(time), float64 lat(lat), float64 lon(lon), float64 tx_days_above(time, lat, lon)\n",
      "    groups: \n",
      "\n",
      "Process status: ProcessSucceeded\n",
      "Link to process output: https://marble-dev01.pcic.uvic.ca/wpsoutputs/finch/1210c936-1ed3-11ef-bf70-0242ac120009/tn_max_feb.nc\n",
      "<class 'netCDF4._netCDF4.Dataset'>\n",
      "root group (NETCDF3_CLASSIC data model, file format DAP2):\n",
      "    DODS_EXTRA.Unlimited_Dimension: time\n",
      "    climateindex_package_id: https://github.com/Ouranosinc/xclim\n",
      "    product: derived climate index\n",
      "    contact: Canadian Centre for Climate Services\n",
      "    institute_id: CCCS\n",
      "    institution: Canadian Centre for Climate Services (CCCS)\n",
      "    dimensions(sizes): time(68), lat(301), lon(301)\n",
      "    variables(dimensions): float32 time(time), float64 lat(lat), float64 lon(lon), float32 tn_max(time, lat, lon)\n",
      "    groups: \n",
      "\n",
      "Process status: ProcessSucceeded\n",
      "Link to process output: https://marble-dev01.pcic.uvic.ca/wpsoutputs/finch/1251aee2-1ed3-11ef-bf70-0242ac120009/growing_season_length_monthly.nc\n",
      "<class 'netCDF4._netCDF4.Dataset'>\n",
      "root group (NETCDF3_CLASSIC data model, file format DAP2):\n",
      "    DODS_EXTRA.Unlimited_Dimension: time\n",
      "    climateindex_package_id: https://github.com/Ouranosinc/xclim\n",
      "    product: derived climate index\n",
      "    contact: Canadian Centre for Climate Services\n",
      "    institute_id: CCCS\n",
      "    institution: Canadian Centre for Climate Services (CCCS)\n",
      "    dimensions(sizes): time(816), lat(301), lon(301)\n",
      "    variables(dimensions): float32 time(time), float64 lat(lat), float64 lon(lon), float64 growing_season_length(time, lat, lon)\n",
      "    groups: \n",
      "\n",
      "Process status: ProcessSucceeded\n",
      "Link to process output: https://marble-dev01.pcic.uvic.ca/twitcher/ows/proxy/thredds/fileServer/datasets/storage/data/projects/comp_support/daccs/test-data/finch_outputs/rx1day.nc\n",
      "<class 'netCDF4._netCDF4.Dataset'>\n",
      "root group (NETCDF3_CLASSIC data model, file format DAP2):\n",
      "    DODS_EXTRA.Unlimited_Dimension: time\n",
      "    climateindex_package_id: https://github.com/Ouranosinc/xclim\n",
      "    product: derived climate index\n",
      "    institute_id: CCCS\n",
      "    institution: Canadian Centre for Climate Services (CCCS)\n",
      "    contact: Canadian Centre for Climate Services\n",
      "    dimensions(sizes): time(68), lat(301), lon(301)\n",
      "    variables(dimensions): float32 time(time), float64 lat(lat), float64 lon(lon), float32 rx1day(time, lat, lon)\n",
      "    groups: \n",
      "\n",
      "Process status: ProcessSucceeded\n",
      "Link to process output: https://marble-dev01.pcic.uvic.ca/twitcher/ows/proxy/thredds/fileServer/datasets/storage/data/projects/comp_support/daccs/test-data/finch_outputs/ice_days.nc\n",
      "<class 'netCDF4._netCDF4.Dataset'>\n",
      "root group (NETCDF3_CLASSIC data model, file format DAP2):\n",
      "    DODS_EXTRA.Unlimited_Dimension: time\n",
      "    climateindex_package_id: https://github.com/Ouranosinc/xclim\n",
      "    product: derived climate index\n",
      "    institute_id: CCCS\n",
      "    institution: Canadian Centre for Climate Services (CCCS)\n",
      "    contact: Canadian Centre for Climate Services\n",
      "    dimensions(sizes): time(68), lat(301), lon(301)\n",
      "    variables(dimensions): float32 time(time), float64 lat(lat), float64 lon(lon), float64 ice_days(time, lat, lon)\n",
      "    groups: \n",
      "\n",
      "Process status: ProcessSucceeded\n",
      "Link to process output: https://marble-dev01.pcic.uvic.ca/twitcher/ows/proxy/thredds/fileServer/datasets/storage/data/projects/comp_support/daccs/test-data/finch_outputs/tn_max.nc\n",
      "<class 'netCDF4._netCDF4.Dataset'>\n",
      "root group (NETCDF3_CLASSIC data model, file format DAP2):\n",
      "    DODS_EXTRA.Unlimited_Dimension: time\n",
      "    climateindex_package_id: https://github.com/Ouranosinc/xclim\n",
      "    product: derived climate index\n",
      "    institute_id: CCCS\n",
      "    institution: Canadian Centre for Climate Services (CCCS)\n",
      "    contact: Canadian Centre for Climate Services\n",
      "    dimensions(sizes): time(68), lat(301), lon(301)\n",
      "    variables(dimensions): float32 time(time), float64 lat(lat), float64 lon(lon), float32 tn_max(time, lat, lon)\n",
      "    groups: \n",
      "\n"
     ]
    }
   ],
   "source": [
    "index_outputs_dsets = []\n",
    "for output in helpers.index_outputs:\n",
    "    get_output(output)\n",
    "    if output.isComplete():\n",
    "        index_output_dset = output_to_dataset(output)\n",
    "        index_outputs_dsets.append(index_output_dset)\n",
    "        print(index_output_dset)\n",
    "        print()"
   ]
  },
  {
   "cell_type": "code",
   "execution_count": null,
   "metadata": {},
   "outputs": [],
   "source": []
  }
 ],
 "metadata": {
  "kernelspec": {
   "display_name": "Python 3 (ipykernel)",
   "language": "python",
   "name": "python3"
  },
  "language_info": {
   "codemirror_mode": {
    "name": "ipython",
    "version": 3
   },
   "file_extension": ".py",
   "mimetype": "text/x-python",
   "name": "python",
   "nbconvert_exporter": "python",
   "pygments_lexer": "ipython3",
   "version": "3.10.12"
  },
  "widgets": {
   "application/vnd.jupyter.widget-state+json": {
    "state": {
     "005e81c52de548c5b1c79524b1927840": {
      "model_module": "@jupyter-widgets/base",
      "model_module_version": "2.0.0",
      "model_name": "LayoutModel",
      "state": {
       "grid_area": "center",
       "height": "600px"
      }
     },
     "01233f9491034097addf18910358855d": {
      "model_module": "@jupyter-widgets/base",
      "model_module_version": "2.0.0",
      "model_name": "LayoutModel",
      "state": {
       "justify_content": "space-between"
      }
     },
     "014f5e7ebc2440929aa61201ca8fa667": {
      "model_module": "@jupyter-widgets/controls",
      "model_module_version": "2.0.0",
      "model_name": "CheckboxStyleModel",
      "state": {
       "description_width": "initial"
      }
     },
     "0419364e90054cd9b42ab7319974dbe2": {
      "model_module": "@jupyter-widgets/base",
      "model_module_version": "2.0.0",
      "model_name": "LayoutModel",
      "state": {}
     },
     "04a469cbec63498f803806257c7ab4f1": {
      "model_module": "@jupyter-widgets/controls",
      "model_module_version": "2.0.0",
      "model_name": "HBoxModel",
      "state": {
       "children": [
        "IPY_MODEL_e07800e1962b464c84554e12dd1ec26d",
        "IPY_MODEL_d24cacc994e8405c9df58a0714ad6ea0"
       ],
       "layout": "IPY_MODEL_e0ab641e6c7049f988ae0efa45a0b178"
      }
     },
     "04af4e3b1c4241b88f589c6a1e434a7b": {
      "model_module": "@jupyter-widgets/controls",
      "model_module_version": "2.0.0",
      "model_name": "IntSliderModel",
      "state": {
       "behavior": "drag-tap",
       "layout": "IPY_MODEL_0419364e90054cd9b42ab7319974dbe2",
       "max": 30,
       "min": 10,
       "style": "IPY_MODEL_b8c6d1ce472d4dd6a703dec8c10dfbcc",
       "value": 20
      }
     },
     "04b9f6c1e458408fba47c97b2e2e827a": {
      "model_module": "@jupyter-widgets/base",
      "model_module_version": "2.0.0",
      "model_name": "LayoutModel",
      "state": {}
     },
     "074727e89cac44c89fce3133e9a304b1": {
      "model_module": "@jupyter-widgets/base",
      "model_module_version": "2.0.0",
      "model_name": "LayoutModel",
      "state": {}
     },
     "0913731feb914be2828ee1117290a801": {
      "model_module": "jupyter-leaflet",
      "model_module_version": "^0.17",
      "model_name": "LeafletLegendControlModel",
      "state": {
       "_model_module_version": "^0.17",
       "_view_module_version": "^0.17",
       "legend": {
        "GCM": "blue",
        "Obs": "red"
       },
       "options": [
        "position"
       ],
       "position": "topright",
       "title": "Subdomains"
      }
     },
     "0a6b6f15a711481d98cc9292cc7f1e02": {
      "model_module": "@jupyter-widgets/base",
      "model_module_version": "2.0.0",
      "model_name": "LayoutModel",
      "state": {
       "justify_content": "space-between"
      }
     },
     "0b13127e36a348c49bc70f53bd066acd": {
      "model_module": "@jupyter-widgets/base",
      "model_module_version": "2.0.0",
      "model_name": "LayoutModel",
      "state": {}
     },
     "0b45ef869d5748dd9660894ee4ffc4f4": {
      "model_module": "@jupyter-widgets/controls",
      "model_module_version": "2.0.0",
      "model_name": "CheckboxStyleModel",
      "state": {
       "description_width": "initial"
      }
     },
     "0bd9bdd03a2540979fce781ec45716f1": {
      "model_module": "@jupyter-widgets/controls",
      "model_module_version": "2.0.0",
      "model_name": "RadioButtonsModel",
      "state": {
       "_options_labels": [
        "BCCAQv2",
        "MBCn"
       ],
       "description": "CMIP6 downscaling technique:",
       "disabled": true,
       "index": 0,
       "layout": "IPY_MODEL_d3b91c2cba8447cebc609781a3ce86bd",
       "style": "IPY_MODEL_6db205ad6259421d84a1a99f56a0d3a3"
      }
     },
     "0cba15b6d6be47ba827a70f24ac2d797": {
      "model_module": "@jupyter-widgets/controls",
      "model_module_version": "2.0.0",
      "model_name": "DescriptionStyleModel",
      "state": {
       "description_width": ""
      }
     },
     "0d4ae53063cf4769b494cc597f6a1271": {
      "model_module": "@jupyter-widgets/controls",
      "model_module_version": "2.0.0",
      "model_name": "CheckboxStyleModel",
      "state": {
       "description_width": "initial"
      }
     },
     "0dd59044cf184d2b90011c6b7857fdf5": {
      "model_module": "@jupyter-widgets/base",
      "model_module_version": "2.0.0",
      "model_name": "LayoutModel",
      "state": {}
     },
     "0dd5de46531742b0808815a37e77f6e5": {
      "model_module": "@jupyter-widgets/controls",
      "model_module_version": "2.0.0",
      "model_name": "ButtonModel",
      "state": {
       "button_style": "success",
       "description": "Run Downscaling",
       "layout": "IPY_MODEL_5f66cf10e4a643e5ba94e8a46ec475e7",
       "style": "IPY_MODEL_b3c70163f564490989bbf2aa7c13145c",
       "tooltip": "Click 'Run' to start the on-demand downscaling"
      }
     },
     "0e4458928b264a3b882f338330f7b7b5": {
      "model_module": "@jupyter-widgets/controls",
      "model_module_version": "2.0.0",
      "model_name": "ButtonModel",
      "state": {
       "button_style": "danger",
       "description": "Cancel",
       "disabled": true,
       "layout": "IPY_MODEL_518f022895bd4844b714a6973155b6b3",
       "style": "IPY_MODEL_b8d4a7541a2148d8b9c6b96c4ec35016",
       "tooltip": "Send `dismiss` request to WPS server."
      }
     },
     "0e8df539194941f6a4fb3d5a67292da1": {
      "model_module": "@jupyter-widgets/controls",
      "model_module_version": "2.0.0",
      "model_name": "TextModel",
      "state": {
       "layout": "IPY_MODEL_4faabf8675c8498091309928b9d5a5a6",
       "placeholder": "",
       "style": "IPY_MODEL_b55052d5ddb74345ba8cb346f90d9727",
       "value": "(44.53724, -118.81657)"
      }
     },
     "0fd604a866ba47ea9873dda8ca2af10a": {
      "model_module": "@jupyter-widgets/controls",
      "model_module_version": "2.0.0",
      "model_name": "DescriptionStyleModel",
      "state": {
       "description_width": ""
      }
     },
     "1088987c988f4373a5b3935a8f9636f4": {
      "model_module": "@jupyter-widgets/controls",
      "model_module_version": "2.0.0",
      "model_name": "HBoxModel",
      "state": {
       "children": [
        "IPY_MODEL_dab1531c40384ea7874a878323976c4e",
        "IPY_MODEL_7a21cc6fd1f84001b1b5c7ca1f742cfb"
       ],
       "layout": "IPY_MODEL_8bcea1c04c104106bc152983a017660e"
      }
     },
     "10b20865d8d3436c883c6619efe6fb19": {
      "model_module": "@jupyter-widgets/controls",
      "model_module_version": "2.0.0",
      "model_name": "HBoxModel",
      "state": {
       "children": [
        "IPY_MODEL_14668ebe85514e128c551fc87a596e34",
        "IPY_MODEL_663574427d574dce9c692d7da5fe82a5"
       ],
       "layout": "IPY_MODEL_5e3eb3733c9645f28d5e725ff68a3f1f"
      }
     },
     "10c6930338ec415f9dfd4c32d9242778": {
      "model_module": "@jupyter-widgets/controls",
      "model_module_version": "2.0.0",
      "model_name": "DescriptionStyleModel",
      "state": {
       "description_width": ""
      }
     },
     "110f3a5bc1a64ee0b980ae957ba7cdc4": {
      "model_module": "@jupyter-widgets/controls",
      "model_module_version": "2.0.0",
      "model_name": "IntProgressModel",
      "state": {
       "bar_style": "success",
       "description": "Complete",
       "layout": "IPY_MODEL_9836598d1fb1457e98531bf2634add88",
       "style": "IPY_MODEL_d3e2539778cb499c8dc627599ff8390d",
       "value": 100
      }
     },
     "112c0cc995264554af7e1f765ee10841": {
      "model_module": "@jupyter-widgets/controls",
      "model_module_version": "2.0.0",
      "model_name": "HTMLStyleModel",
      "state": {
       "description_width": "initial",
       "font_size": null,
       "text_color": null
      }
     },
     "125df702aab7494a8d7bbc1b73d0a734": {
      "model_module": "@jupyter-widgets/controls",
      "model_module_version": "2.0.0",
      "model_name": "DropdownModel",
      "state": {
       "_options_labels": [
        "Annual",
        "Monthly",
        "Seasonal",
        "January",
        "February",
        "March",
        "April",
        "May",
        "June",
        "July",
        "August",
        "September",
        "October",
        "November",
        "December",
        "Winter-DJF",
        "Spring-MAM",
        "Summer-JJA",
        "Fall-SON"
       ],
       "index": 0,
       "layout": "IPY_MODEL_4dad68279b874a92a2da5db79fe785d0",
       "style": "IPY_MODEL_22eb521561b74570ac64add359f4c9dd"
      }
     },
     "132c93c6ed85466ab34259a6a7e3a7a6": {
      "model_module": "@jupyter-widgets/controls",
      "model_module_version": "2.0.0",
      "model_name": "CheckboxModel",
      "state": {
       "description": "Daily Temperature Range",
       "disabled": false,
       "layout": "IPY_MODEL_b43abc237c0149e3bf5a468898fa9ac3",
       "style": "IPY_MODEL_1e9210c7e2464463b56089a998f4a66f",
       "value": false
      }
     },
     "14668ebe85514e128c551fc87a596e34": {
      "model_module": "@jupyter-widgets/controls",
      "model_module_version": "2.0.0",
      "model_name": "CheckboxModel",
      "state": {
       "description": "Coldest Days",
       "disabled": false,
       "layout": "IPY_MODEL_e542123eb24641288ed0b89e36fa9449",
       "style": "IPY_MODEL_88c4b27a8fb24c1f9038210e8be64e27",
       "value": false
      }
     },
     "14a45464e44d46c0af353e1934925e8b": {
      "model_module": "@jupyter-widgets/controls",
      "model_module_version": "2.0.0",
      "model_name": "DescriptionStyleModel",
      "state": {
       "description_width": "100px"
      }
     },
     "14d54f25a9304b83b5682faee0173840": {
      "model_module": "@jupyter-widgets/controls",
      "model_module_version": "2.0.0",
      "model_name": "IntProgressModel",
      "state": {
       "bar_style": "success",
       "description": "Complete",
       "layout": "IPY_MODEL_6c82c357c7234d6f8fc4340c202cab5d",
       "style": "IPY_MODEL_5df1a490a83f4255ac51cc79a576aba4",
       "value": 100
      }
     },
     "14ff737de152455ca57bd47bef39eece": {
      "model_module": "@jupyter-widgets/controls",
      "model_module_version": "2.0.0",
      "model_name": "VBoxModel",
      "state": {
       "children": [
        "IPY_MODEL_5315ae986b7c4d7d9931966b6d41e627",
        "IPY_MODEL_3b226d4e40984759953f39776c0efa4c",
        "IPY_MODEL_b3d36594db1a40eb9e413d7e5612182e",
        "IPY_MODEL_6dc2cc9a17b045b19fd84a23f08d4197",
        "IPY_MODEL_04a469cbec63498f803806257c7ab4f1",
        "IPY_MODEL_8f0b448be9cf4665a1edf072870014a4",
        "IPY_MODEL_1bf4e52620794f24b31c746c30bc336a",
        "IPY_MODEL_836eefbafa844bde99f2757ac125d22d",
        "IPY_MODEL_1088987c988f4373a5b3935a8f9636f4"
       ],
       "layout": "IPY_MODEL_d80a82a37d2741b39c599d21d3df487d"
      }
     },
     "152a40192c4349a69c380fe2c117dbaf": {
      "model_module": "@jupyter-widgets/controls",
      "model_module_version": "2.0.0",
      "model_name": "HTMLModel",
      "state": {
       "layout": "IPY_MODEL_eb48e2d156494411b301a36705c6bc2d",
       "style": "IPY_MODEL_33c97baed2d542e1ba1646d90fe954d7",
       "value": "<b>tasmean</b>"
      }
     },
     "1564ef70c43043dbb98c1a84297dcfd7": {
      "model_module": "@jupyter-widgets/controls",
      "model_module_version": "2.0.0",
      "model_name": "DropdownModel",
      "state": {
       "_options_labels": [
        "Annual",
        "Monthly",
        "Seasonal"
       ],
       "index": 0,
       "layout": "IPY_MODEL_658200a4fec042c197c34c3a95cdda0a",
       "style": "IPY_MODEL_7f83b43cb293448d8d3a96af29c6e3a6"
      }
     },
     "16a6c969af394824ac4c959675e52302": {
      "model_module": "@jupyter-widgets/controls",
      "model_module_version": "2.0.0",
      "model_name": "CheckboxModel",
      "state": {
       "description": "Freezing Degree Days",
       "disabled": false,
       "layout": "IPY_MODEL_e8a5f1c756e1492ab1b4aa23380a189b",
       "style": "IPY_MODEL_6fe53459acfa4ef286115a534080e000",
       "value": false
      }
     },
     "16d1f310c72e4ba89496b63ac0ac475c": {
      "model_module": "@jupyter-widgets/controls",
      "model_module_version": "2.0.0",
      "model_name": "DescriptionStyleModel",
      "state": {
       "description_width": ""
      }
     },
     "17fd16700043401b9a01dea36aac6401": {
      "model_module": "@jupyter-widgets/controls",
      "model_module_version": "2.0.0",
      "model_name": "TextStyleModel",
      "state": {
       "description_width": "",
       "font_size": null,
       "text_color": null
      }
     },
     "1873cd1b072a4d2ba47c78bfb02b2181": {
      "model_module": "@jupyter-widgets/controls",
      "model_module_version": "2.0.0",
      "model_name": "HTMLModel",
      "state": {
       "layout": "IPY_MODEL_c38ea49f64254eefaee797f093fd6695",
       "style": "IPY_MODEL_e4a8233af51443bea32338f4aceaa177",
       "value": "<b>tasmin</b>"
      }
     },
     "1933e07518ad4079932714cffa1c96c0": {
      "model_module": "@jupyter-widgets/controls",
      "model_module_version": "2.0.0",
      "model_name": "SliderStyleModel",
      "state": {
       "description_width": ""
      }
     },
     "1bdbdbc549734e179aed491d23766853": {
      "model_module": "@jupyter-widgets/controls",
      "model_module_version": "2.0.0",
      "model_name": "ButtonModel",
      "state": {
       "button_style": "danger",
       "description": "Cancel",
       "disabled": true,
       "layout": "IPY_MODEL_ec9b91c1e7784f73ba5118ea714edf7d",
       "style": "IPY_MODEL_edd0f531f22f419687fb4cbbb8621cfa",
       "tooltip": "Send `dismiss` request to WPS server."
      }
     },
     "1bf4e52620794f24b31c746c30bc336a": {
      "model_module": "@jupyter-widgets/controls",
      "model_module_version": "2.0.0",
      "model_name": "HBoxModel",
      "state": {
       "children": [
        "IPY_MODEL_20cc5e15bf7e468993662114d2623d59",
        "IPY_MODEL_db1d0169f9f54b4e88accd528a516d7a"
       ],
       "layout": "IPY_MODEL_4f3bee9680b94ac88d2f2720668ebd58"
      }
     },
     "1c40de5f21714844b08c21035c3df4e1": {
      "model_module": "@jupyter-widgets/controls",
      "model_module_version": "2.0.0",
      "model_name": "HBoxModel",
      "state": {
       "children": [
        "IPY_MODEL_14d54f25a9304b83b5682faee0173840",
        "IPY_MODEL_86d06e996bd54d1bbb7a9671fc1fa1e4"
       ],
       "layout": "IPY_MODEL_0a6b6f15a711481d98cc9292cc7f1e02"
      }
     },
     "1cd81fb65b2045cda72d272f5ffbca0c": {
      "model_module": "@jupyter-widgets/base",
      "model_module_version": "2.0.0",
      "model_name": "LayoutModel",
      "state": {}
     },
     "1cf46bfa983c424981ca33f05a1be421": {
      "model_module": "@jupyter-widgets/controls",
      "model_module_version": "2.0.0",
      "model_name": "GridBoxModel",
      "state": {
       "children": [
        "IPY_MODEL_e2450df7cf8544e28225f06571fba2f9",
        "IPY_MODEL_366d0f757e014800885f0bc01b4c348c"
       ],
       "layout": "IPY_MODEL_47a69b702ee7479ca4545643b7534083"
      }
     },
     "1e9210c7e2464463b56089a998f4a66f": {
      "model_module": "@jupyter-widgets/controls",
      "model_module_version": "2.0.0",
      "model_name": "CheckboxStyleModel",
      "state": {
       "description_width": "initial"
      }
     },
     "1f63dd82cb4342b39c1e1ef8d6c17ee4": {
      "model_module": "@jupyter-widgets/base",
      "model_module_version": "2.0.0",
      "model_name": "LayoutModel",
      "state": {}
     },
     "20cc5e15bf7e468993662114d2623d59": {
      "model_module": "@jupyter-widgets/controls",
      "model_module_version": "2.0.0",
      "model_name": "CheckboxModel",
      "state": {
       "description": "Maximum Length of Dry Spell",
       "disabled": false,
       "layout": "IPY_MODEL_5ecc30f831ac47618c4420eaaaf60033",
       "style": "IPY_MODEL_c72e6bc928e24155862eb3223cc153ae",
       "value": false
      }
     },
     "22eb521561b74570ac64add359f4c9dd": {
      "model_module": "@jupyter-widgets/controls",
      "model_module_version": "2.0.0",
      "model_name": "DescriptionStyleModel",
      "state": {
       "description_width": ""
      }
     },
     "23543d86b0f047f89c73ad9b92fb4dbe": {
      "model_module": "@jupyter-widgets/controls",
      "model_module_version": "2.0.0",
      "model_name": "ProgressStyleModel",
      "state": {
       "description_width": ""
      }
     },
     "23e1276922eb433884ee46272d69ae2c": {
      "model_module": "@jupyter-widgets/base",
      "model_module_version": "2.0.0",
      "model_name": "LayoutModel",
      "state": {}
     },
     "259ed5e07e1c476fb2d5e6d1d83e4f69": {
      "model_module": "@jupyter-widgets/base",
      "model_module_version": "2.0.0",
      "model_name": "LayoutModel",
      "state": {}
     },
     "25b0ebdd480a4fd5aa43c2493ea31149": {
      "model_module": "@jupyter-widgets/base",
      "model_module_version": "2.0.0",
      "model_name": "LayoutModel",
      "state": {}
     },
     "25b91bbf15e64215a797c4205e698f2c": {
      "model_module": "@jupyter-widgets/controls",
      "model_module_version": "2.0.0",
      "model_name": "SliderStyleModel",
      "state": {
       "description_width": ""
      }
     },
     "265e51ea768341f38fc41b5f6beeb1b1": {
      "model_module": "@jupyter-widgets/controls",
      "model_module_version": "2.0.0",
      "model_name": "HBoxModel",
      "state": {
       "children": [
        "IPY_MODEL_71bf5cb70a084adbafbdc90b4bad6944",
        "IPY_MODEL_502a803bdb58476daf8442d24727ddeb"
       ],
       "layout": "IPY_MODEL_cd0ec535755743c8b9d433d4172e52d3"
      }
     },
     "26eddfe78773474ab28d21ceef4c1fcd": {
      "model_module": "@jupyter-widgets/controls",
      "model_module_version": "2.0.0",
      "model_name": "CheckboxModel",
      "state": {
       "description": "Simple Precip Intensity Index",
       "disabled": false,
       "layout": "IPY_MODEL_8c99d578f2b24cc8a5a0943849064656",
       "style": "IPY_MODEL_cfc6b9c09fb444ef8b8c81c9ef08ca87",
       "value": false
      }
     },
     "271d0ec6ec784f989a1805c83896836f": {
      "model_module": "@jupyter-widgets/controls",
      "model_module_version": "2.0.0",
      "model_name": "HTMLStyleModel",
      "state": {
       "description_width": "initial",
       "font_size": null,
       "text_color": null
      }
     },
     "276a85bb5a554a3084c9e19d02bda5a8": {
      "model_module": "@jupyter-widgets/controls",
      "model_module_version": "2.0.0",
      "model_name": "IntProgressModel",
      "state": {
       "bar_style": "success",
       "description": "Complete",
       "layout": "IPY_MODEL_f2bb642baf8b48629043e2b88d1c9191",
       "style": "IPY_MODEL_9146e6cbe8374ef699cf978ba9096df9",
       "value": 100
      }
     },
     "28aa1f0912324edfb666da23a0a6aaa9": {
      "model_module": "jupyter-leaflet",
      "model_module_version": "^0.17",
      "model_name": "LeafletLayerGroupModel",
      "state": {
       "_model_module_version": "^0.17",
       "_view_module_version": "^0.17",
       "layers": [
        "IPY_MODEL_501500eba13a472a8f176920f1791635",
        "IPY_MODEL_89bf49d5b6574bff92cf48c06e7b6077",
        "IPY_MODEL_ec09fecb44384376ac9677637465fbbb"
       ]
      }
     },
     "29f88e6e30ca4bcd926e4ca642e79815": {
      "model_module": "@jupyter-widgets/base",
      "model_module_version": "2.0.0",
      "model_name": "LayoutModel",
      "state": {}
     },
     "2a2137bddc91473b8bc36b0d863aa5b2": {
      "model_module": "@jupyter-widgets/base",
      "model_module_version": "2.0.0",
      "model_name": "LayoutModel",
      "state": {}
     },
     "2bed18c723b6433ea9aeb4af65bd674e": {
      "model_module": "@jupyter-widgets/base",
      "model_module_version": "2.0.0",
      "model_name": "LayoutModel",
      "state": {}
     },
     "2bef2b23355d48adabe3e7832942690a": {
      "model_module": "@jupyter-widgets/controls",
      "model_module_version": "2.0.0",
      "model_name": "HBoxModel",
      "state": {
       "children": [
        "IPY_MODEL_9adb70c3bff0455f8120cb949f8bf2e6",
        "IPY_MODEL_84b83c70144346838846469eebf98ccd"
       ],
       "layout": "IPY_MODEL_25b0ebdd480a4fd5aa43c2493ea31149"
      }
     },
     "2c4f611e24694ef5ad373a872d9970d2": {
      "model_module": "@jupyter-widgets/controls",
      "model_module_version": "2.0.0",
      "model_name": "HBoxModel",
      "state": {
       "children": [
        "IPY_MODEL_a356a0cf7bb44271a9d5d26c8acb1009",
        "IPY_MODEL_66f820804b0442d9964c2643b312fd2d"
       ],
       "layout": "IPY_MODEL_f6907584018f47ce96c3b25dfab555d3"
      }
     },
     "2dd14f68d6db4789afef020a55182c3a": {
      "model_module": "@jupyter-widgets/output",
      "model_module_version": "1.0.0",
      "model_name": "OutputModel",
      "state": {
       "layout": "IPY_MODEL_c438b36ce12442cb89f5d96a42528df7",
       "outputs": [
        {
         "name": "stdout",
         "output_type": "stream",
         "text": "Computing tasmean at 2024-05-30 14:58:24\nStarting tasmean process\n"
        },
        {
         "data": {
          "application/vnd.jupyter.widget-view+json": {
           "model_id": "f99eab367f0a4d42baa53436fd5485e9",
           "version_major": 2,
           "version_minor": 0
          },
          "text/plain": "HBox(children=(IntProgress(value=0, bar_style='info', description='Processing:'), Button(button_style='danger'…"
         },
         "metadata": {},
         "output_type": "display_data"
        },
        {
         "name": "stdout",
         "output_type": "stream",
         "text": "Finished computing tasmean at 2024-05-30 15:00:40\n\nDownscaling https://marble-dev01.pcic.uvic.ca/twitcher/ows/proxy/thredds/dodsC/datasets/birdhouse_wps_outputs/finch/c00ca1d0-1ecf-11ef-bf70-0242ac120009/tasmean.nc\nApproximate time to completion: 13 minutes\n"
        },
        {
         "data": {
          "application/vnd.jupyter.widget-view+json": {
           "model_id": "7f8cb7d57f204f5489682a17ec166bc8",
           "version_major": 2,
           "version_minor": 0
          },
          "text/plain": "HBox(children=(IntProgress(value=0, bar_style='info', description='Processing:'), Button(button_style='danger'…"
         },
         "metadata": {},
         "output_type": "display_data"
        },
        {
         "name": "stdout",
         "output_type": "stream",
         "text": "\n"
        }
       ]
      }
     },
     "32ec353ce2c84e3f8e2a024f4eac9170": {
      "model_module": "@jupyter-widgets/controls",
      "model_module_version": "2.0.0",
      "model_name": "DropdownModel",
      "state": {
       "_options_labels": [
        "Annual",
        "Monthly",
        "Seasonal",
        "January",
        "February",
        "March",
        "April",
        "May",
        "June",
        "July",
        "August",
        "September",
        "October",
        "November",
        "December",
        "Winter-DJF",
        "Spring-MAM",
        "Summer-JJA",
        "Fall-SON"
       ],
       "index": 0,
       "layout": "IPY_MODEL_8918d8bc4bcb4f1590cf28ca0fed6fe1",
       "style": "IPY_MODEL_f7ef8bb3d6f340a7a092939e60d03214"
      }
     },
     "3392b7138cb443ffa420c338da5ec079": {
      "model_module": "@jupyter-widgets/base",
      "model_module_version": "2.0.0",
      "model_name": "LayoutModel",
      "state": {}
     },
     "33c97baed2d542e1ba1646d90fe954d7": {
      "model_module": "@jupyter-widgets/controls",
      "model_module_version": "2.0.0",
      "model_name": "HTMLStyleModel",
      "state": {
       "description_width": "initial",
       "font_size": null,
       "text_color": null
      }
     },
     "33fa272de8674f6eb5f0327f50ba416d": {
      "model_module": "@jupyter-widgets/controls",
      "model_module_version": "2.0.0",
      "model_name": "HTMLModel",
      "state": {
       "layout": "IPY_MODEL_074727e89cac44c89fce3133e9a304b1",
       "style": "IPY_MODEL_c9a812ee054e4be0b23882b68a0c24de",
       "value": "<b>pr</b>"
      }
     },
     "3492d547212741fe9b02faea1f023221": {
      "model_module": "@jupyter-widgets/controls",
      "model_module_version": "2.0.0",
      "model_name": "DescriptionStyleModel",
      "state": {
       "description_width": ""
      }
     },
     "35bd6b5be1a94d58988da573d0a6f0b6": {
      "model_module": "jupyter-leaflet",
      "model_module_version": "^0.17",
      "model_name": "LeafletAttributionControlModel",
      "state": {
       "_model_module_version": "^0.17",
       "_view_module_version": "^0.17",
       "options": [
        "position",
        "prefix"
       ],
       "position": "bottomright",
       "prefix": "ipyleaflet"
      }
     },
     "366d0f757e014800885f0bc01b4c348c": {
      "model_module": "jupyter-leaflet",
      "model_module_version": "^0.17",
      "model_name": "LeafletMapModel",
      "state": {
       "_model_module_version": "^0.17",
       "_view_module_version": "^0.17",
       "bottom": 2950,
       "center": [
        53.5,
        -120
       ],
       "controls": [
        "IPY_MODEL_d510c5adbe3143feb02ae75fa3b09003",
        "IPY_MODEL_35bd6b5be1a94d58988da573d0a6f0b6",
        "IPY_MODEL_0913731feb914be2828ee1117290a801"
       ],
       "default_style": "IPY_MODEL_e2fb255c82744de7a0a58e0b77e650f6",
       "dragging_style": "IPY_MODEL_59bff56a087945749019e407a78861be",
       "east": -96.7236328125,
       "fullscreen": false,
       "interpolation": "bilinear",
       "layers": [
        "IPY_MODEL_7cd96676b17c4f62988526b118169938",
        "IPY_MODEL_28aa1f0912324edfb666da23a0a6aaa9"
       ],
       "layout": "IPY_MODEL_005e81c52de548c5b1c79524b1927840",
       "left": 835,
       "modisdate": "2024-05-29",
       "north": 60.6301017662667,
       "options": [
        "bounce_at_zoom_limits",
        "box_zoom",
        "center",
        "close_popup_on_click",
        "double_click_zoom",
        "dragging",
        "fullscreen",
        "inertia",
        "inertia_deceleration",
        "inertia_max_speed",
        "interpolation",
        "keyboard",
        "keyboard_pan_offset",
        "keyboard_zoom_offset",
        "max_zoom",
        "min_zoom",
        "prefer_canvas",
        "scroll_wheel_zoom",
        "tap",
        "tap_tolerance",
        "touch_zoom",
        "world_copy_jump",
        "zoom",
        "zoom_animation_threshold",
        "zoom_delta",
        "zoom_snap"
       ],
       "prefer_canvas": false,
       "right": 1895,
       "south": 44.902577996288876,
       "style": "IPY_MODEL_f28746448c844019a8d0ea839279a248",
       "top": 2350,
       "west": -143.30566406250003,
       "window_url": "http://localhost:8888/lab/tree/notebooks/on-demand_downscaling/on_demand_downscaling.ipynb",
       "zoom": 5
      }
     },
     "3944fb2f30a54294b3ac9ff0ead9c819": {
      "model_module": "@jupyter-widgets/base",
      "model_module_version": "2.0.0",
      "model_name": "LayoutModel",
      "state": {}
     },
     "3b0c4aeebce44c0c99c27e6b483ae34a": {
      "model_module": "@jupyter-widgets/controls",
      "model_module_version": "2.0.0",
      "model_name": "DescriptionStyleModel",
      "state": {
       "description_width": ""
      }
     },
     "3b226d4e40984759953f39776c0efa4c": {
      "model_module": "@jupyter-widgets/controls",
      "model_module_version": "2.0.0",
      "model_name": "HBoxModel",
      "state": {
       "children": [
        "IPY_MODEL_b4c67f7cea6f43bb9d04dd36c8ccd160",
        "IPY_MODEL_1564ef70c43043dbb98c1a84297dcfd7"
       ],
       "layout": "IPY_MODEL_9efdc43b834f484481ed79bed8cd6402"
      }
     },
     "3b2ba983fb264b6eb4bade343f7a6c38": {
      "model_module": "@jupyter-widgets/controls",
      "model_module_version": "2.0.0",
      "model_name": "DropdownModel",
      "state": {
       "_options_labels": [
        "Annual",
        "Monthly",
        "Seasonal",
        "January",
        "February",
        "March",
        "April",
        "May",
        "June",
        "July",
        "August",
        "September",
        "October",
        "November",
        "December",
        "Winter-DJF",
        "Spring-MAM",
        "Summer-JJA",
        "Fall-SON"
       ],
       "index": 0,
       "layout": "IPY_MODEL_29f88e6e30ca4bcd926e4ca642e79815",
       "style": "IPY_MODEL_609ab057524f4cdc8910e654800ca47b"
      }
     },
     "3b6144c66aea4567898ed40f4f81ed86": {
      "model_module": "@jupyter-widgets/controls",
      "model_module_version": "2.0.0",
      "model_name": "ButtonModel",
      "state": {
       "button_style": "danger",
       "description": "Cancel",
       "disabled": true,
       "layout": "IPY_MODEL_856bb3225121401d86f944ff50159acd",
       "style": "IPY_MODEL_6d09aeca94544e70a9c48ff8f8785ba9",
       "tooltip": "Send `dismiss` request to WPS server."
      }
     },
     "3de5a1e294964cea9f988b57b11238a9": {
      "model_module": "@jupyter-widgets/controls",
      "model_module_version": "2.0.0",
      "model_name": "IntProgressModel",
      "state": {
       "bar_style": "success",
       "description": "Complete",
       "layout": "IPY_MODEL_e701ae4b70e5418faed40d88e796a3ff",
       "style": "IPY_MODEL_de7e6ace947f46a8b5f1bf0466ad65e6",
       "value": 100
      }
     },
     "3e922d54b55d47db8bdd52fc00f37318": {
      "model_module": "@jupyter-widgets/controls",
      "model_module_version": "2.0.0",
      "model_name": "CheckboxStyleModel",
      "state": {
       "description_width": "initial"
      }
     },
     "40c2cd1e0a2749518e66a9ebf0d46efd": {
      "model_module": "@jupyter-widgets/controls",
      "model_module_version": "2.0.0",
      "model_name": "CheckboxStyleModel",
      "state": {
       "description_width": "initial"
      }
     },
     "4123daddd75e4bcdb1679e3d61b9c22f": {
      "model_module": "@jupyter-widgets/controls",
      "model_module_version": "2.0.0",
      "model_name": "HBoxModel",
      "state": {
       "children": [
        "IPY_MODEL_132c93c6ed85466ab34259a6a7e3a7a6",
        "IPY_MODEL_125df702aab7494a8d7bbc1b73d0a734"
       ],
       "layout": "IPY_MODEL_939c3f5e7b4d4b31bfbc05525f58ad28"
      }
     },
     "423b9111a2814a3e827ce803b9454bbb": {
      "model_module": "@jupyter-widgets/base",
      "model_module_version": "2.0.0",
      "model_name": "LayoutModel",
      "state": {}
     },
     "43ef1a014ecf47fea524a41dea44c59b": {
      "model_module": "@jupyter-widgets/controls",
      "model_module_version": "2.0.0",
      "model_name": "DropdownModel",
      "state": {
       "_options_labels": [
        "ACCESS-CM2",
        "ACCESS-ESM1-5",
        "AgroClimate",
        "BCC-CSM2-MR",
        "CMCC-ESM2",
        "CNRM-CM6-1",
        "CNRM-ESM2-1",
        "CanESM5",
        "EC-Earth3",
        "EC-Earth3-Veg",
        "FGOALS-g3",
        "GFDL-ESM4",
        "HadGEM3-GC31-LL",
        "INM-CM4-8",
        "INM-CM5-0",
        "IPSL-CM6A-LR",
        "KACE-1-0-G",
        "KIOST-ESM",
        "MIROC-ES2L",
        "MIROC6",
        "MPI-ESM1-2-HR",
        "MPI-ESM1-2-LR",
        "MRI-ESM2-0",
        "NorESM2-LM",
        "NorESM2-MM",
        "TaiESM1",
        "UKESM1-0-LL"
       ],
       "description": "CMIP6 model:",
       "disabled": true,
       "index": 0,
       "layout": "IPY_MODEL_cdaddfd213f3494495d3e8ace86fd4c0",
       "style": "IPY_MODEL_14a45464e44d46c0af353e1934925e8b"
      }
     },
     "43feec58dc3c4e468d3366c54fee57b0": {
      "model_module": "@jupyter-widgets/base",
      "model_module_version": "2.0.0",
      "model_name": "LayoutModel",
      "state": {}
     },
     "47765e088dbe482d874af6bfca993714": {
      "model_module": "@jupyter-widgets/base",
      "model_module_version": "2.0.0",
      "model_name": "LayoutModel",
      "state": {}
     },
     "47a69b702ee7479ca4545643b7534083": {
      "model_module": "@jupyter-widgets/base",
      "model_module_version": "2.0.0",
      "model_name": "LayoutModel",
      "state": {
       "align_items": "center",
       "grid_template_areas": "\"center center right-sidebar\"",
       "grid_template_columns": "1fr 2fr 1fr",
       "grid_template_rows": "3fr"
      }
     },
     "4860c15873ab45ebbd6daff6439db269": {
      "model_module": "@jupyter-widgets/controls",
      "model_module_version": "2.0.0",
      "model_name": "CheckboxStyleModel",
      "state": {
       "description_width": "initial"
      }
     },
     "4cb4770e2f404d2993b7edbeb0564ea8": {
      "model_module": "@jupyter-widgets/controls",
      "model_module_version": "2.0.0",
      "model_name": "DescriptionStyleModel",
      "state": {
       "description_width": ""
      }
     },
     "4cdcb11fdebb47b99329eceef1cb8dc5": {
      "model_module": "@jupyter-widgets/base",
      "model_module_version": "2.0.0",
      "model_name": "LayoutModel",
      "state": {}
     },
     "4dad68279b874a92a2da5db79fe785d0": {
      "model_module": "@jupyter-widgets/base",
      "model_module_version": "2.0.0",
      "model_name": "LayoutModel",
      "state": {}
     },
     "4ea55c1130f545098eddca9752d5223e": {
      "model_module": "@jupyter-widgets/controls",
      "model_module_version": "2.0.0",
      "model_name": "ButtonStyleModel",
      "state": {
       "font_family": null,
       "font_size": null,
       "font_style": null,
       "font_variant": null,
       "font_weight": null,
       "text_color": null,
       "text_decoration": null
      }
     },
     "4ed672f17edd47e38de2e9741ffe2098": {
      "model_module": "@jupyter-widgets/controls",
      "model_module_version": "2.0.0",
      "model_name": "VBoxModel",
      "state": {
       "children": [
        "IPY_MODEL_a4f15659b9514affbbf01a154c997df7",
        "IPY_MODEL_f15c7a0d14084ec185b4f03d8f16c964",
        "IPY_MODEL_f81bc11a6c114fe2b3db5c8bf0ea090d",
        "IPY_MODEL_265e51ea768341f38fc41b5f6beeb1b1",
        "IPY_MODEL_6e6b1461c19e4f248f2352dd71cae613",
        "IPY_MODEL_10b20865d8d3436c883c6619efe6fb19"
       ],
       "layout": "IPY_MODEL_97ad3b72279845d29b99f5101da8d9a9"
      }
     },
     "4f3bee9680b94ac88d2f2720668ebd58": {
      "model_module": "@jupyter-widgets/base",
      "model_module_version": "2.0.0",
      "model_name": "LayoutModel",
      "state": {}
     },
     "4faabf8675c8498091309928b9d5a5a6": {
      "model_module": "@jupyter-widgets/base",
      "model_module_version": "2.0.0",
      "model_name": "LayoutModel",
      "state": {}
     },
     "501500eba13a472a8f176920f1791635": {
      "model_module": "jupyter-leaflet",
      "model_module_version": "^0.17",
      "model_name": "LeafletMarkerModel",
      "state": {
       "_model_module_version": "^0.17",
       "_view_module_version": "^0.17",
       "location": [
        53.88621,
        -126.81839
       ],
       "name": "Marker",
       "options": [
        "alt",
        "draggable",
        "keyboard",
        "rise_offset",
        "rise_on_hover",
        "rotation_angle",
        "rotation_origin",
        "title",
        "z_index_offset"
       ]
      }
     },
     "502a803bdb58476daf8442d24727ddeb": {
      "model_module": "@jupyter-widgets/controls",
      "model_module_version": "2.0.0",
      "model_name": "DropdownModel",
      "state": {
       "_options_labels": [
        "Annual",
        "Monthly",
        "Seasonal",
        "January",
        "February",
        "March",
        "April",
        "May",
        "June",
        "July",
        "August",
        "September",
        "October",
        "November",
        "December",
        "Winter-DJF",
        "Spring-MAM",
        "Summer-JJA",
        "Fall-SON"
       ],
       "index": 0,
       "layout": "IPY_MODEL_04b9f6c1e458408fba47c97b2e2e827a",
       "style": "IPY_MODEL_87b3c6e6bdce4afd82517f7e2d96b78e"
      }
     },
     "508bd3ac889d451dba80144ddd52371b": {
      "model_module": "@jupyter-widgets/controls",
      "model_module_version": "2.0.0",
      "model_name": "DescriptionStyleModel",
      "state": {
       "description_width": ""
      }
     },
     "518f022895bd4844b714a6973155b6b3": {
      "model_module": "@jupyter-widgets/base",
      "model_module_version": "2.0.0",
      "model_name": "LayoutModel",
      "state": {}
     },
     "5315ae986b7c4d7d9931966b6d41e627": {
      "model_module": "@jupyter-widgets/controls",
      "model_module_version": "2.0.0",
      "model_name": "HTMLModel",
      "state": {
       "layout": "IPY_MODEL_2bed18c723b6433ea9aeb4af65bd674e",
       "style": "IPY_MODEL_271d0ec6ec784f989a1805c83896836f",
       "value": "<b>Precipitation Indices</b>"
      }
     },
     "55766f38adc54d9e99917dbb6bff266a": {
      "model_module": "@jupyter-widgets/controls",
      "model_module_version": "2.0.0",
      "model_name": "VBoxModel",
      "state": {
       "children": [
        "IPY_MODEL_fa6a8bbf1c244ad19b564138828a0bea",
        "IPY_MODEL_7b861b22e8b34730b2b296cadd9bd84a",
        "IPY_MODEL_2c4f611e24694ef5ad373a872d9970d2",
        "IPY_MODEL_d5067f67fb5345b59341a99f07f4c753",
        "IPY_MODEL_9e83c9431ceb4ffda2611411c5663a77",
        "IPY_MODEL_b6a11c40c69d43bfa5563c628f8fc87a"
       ],
       "layout": "IPY_MODEL_a0ab7caa975e4c23a3f7e8b53e16ceb4"
      }
     },
     "56e0dd904d1c4be8905568b4d2073d41": {
      "model_module": "@jupyter-widgets/controls",
      "model_module_version": "2.0.0",
      "model_name": "CheckboxModel",
      "state": {
       "description": "https://marble-dev01.pcic.uvic.ca/wpsoutputs/0dcb917e-1ed0-11ef-a458-0242ac120006/tasmean_PNWNAmet_target_198101-201012_on-demand.nc",
       "disabled": false,
       "layout": "IPY_MODEL_1cd81fb65b2045cda72d272f5ffbca0c",
       "style": "IPY_MODEL_ed29739c46e94c318fd132008e4cc8c7",
       "value": true
      }
     },
     "579086025bc247a1ad6082805d596e59": {
      "model_module": "@jupyter-widgets/base",
      "model_module_version": "2.0.0",
      "model_name": "LayoutModel",
      "state": {}
     },
     "594fd8b5726749ca97e70769bd9f2be5": {
      "model_module": "@jupyter-widgets/controls",
      "model_module_version": "2.0.0",
      "model_name": "DescriptionStyleModel",
      "state": {
       "description_width": ""
      }
     },
     "59bff56a087945749019e407a78861be": {
      "model_module": "jupyter-leaflet",
      "model_module_version": "^0.17",
      "model_name": "LeafletMapStyleModel",
      "state": {
       "_model_module_version": "^0.17",
       "cursor": "move"
      }
     },
     "5ae2396f38094f5ebdb70183fc682fcc": {
      "model_module": "@jupyter-widgets/controls",
      "model_module_version": "2.0.0",
      "model_name": "HBoxModel",
      "state": {
       "children": [
        "IPY_MODEL_9c76a5d2ffdd46bf990a32c5b73f6aa2",
        "IPY_MODEL_81a97f04ddfc4a9a91261d394fb67ebd"
       ],
       "layout": "IPY_MODEL_adda5cd390fb4252b3bb36504f00398c"
      }
     },
     "5baaf1e074af4bf8acf7a9ab93550d07": {
      "model_module": "@jupyter-widgets/controls",
      "model_module_version": "2.0.0",
      "model_name": "CheckboxModel",
      "state": {
       "description": "https://marble-dev01.pcic.uvic.ca/twitcher/ows/proxy/thredds/dodsC/datasets/storage/data/projects/comp_support/daccs/test-data/chickadee_CI_outputs/tasmean_PNWNAmet_target_198101-201012_on-demand.nc",
       "disabled": false,
       "layout": "IPY_MODEL_688cbed81587430788978a3a9e576f1f",
       "style": "IPY_MODEL_dce62094e83442d29cdad30e8b10d8cb",
       "value": false
      }
     },
     "5bec1d088efd4f15859d6f030292d895": {
      "model_module": "@jupyter-widgets/controls",
      "model_module_version": "2.0.0",
      "model_name": "CheckboxStyleModel",
      "state": {
       "description_width": "initial"
      }
     },
     "5cdb211cb45a4aec9da6e7716cb0ef5d": {
      "model_module": "@jupyter-widgets/base",
      "model_module_version": "2.0.0",
      "model_name": "LayoutModel",
      "state": {
       "align_items": "center",
       "display": "flex",
       "flex_flow": "column",
       "grid_area": "right-sidebar",
       "width": "110%"
      }
     },
     "5d093ef7f4c647cb967c74c22256c1d1": {
      "model_module": "@jupyter-widgets/controls",
      "model_module_version": "2.0.0",
      "model_name": "VBoxModel",
      "state": {
       "children": [
        "IPY_MODEL_8f3ed574483d49698079f3b79c138212",
        "IPY_MODEL_4123daddd75e4bcdb1679e3d61b9c22f"
       ],
       "layout": "IPY_MODEL_0dd59044cf184d2b90011c6b7857fdf5"
      }
     },
     "5d5ed49891dc4233bf963b9739f47d62": {
      "model_module": "@jupyter-widgets/controls",
      "model_module_version": "2.0.0",
      "model_name": "SliderStyleModel",
      "state": {
       "description_width": ""
      }
     },
     "5df1a490a83f4255ac51cc79a576aba4": {
      "model_module": "@jupyter-widgets/controls",
      "model_module_version": "2.0.0",
      "model_name": "ProgressStyleModel",
      "state": {
       "description_width": ""
      }
     },
     "5e3eb3733c9645f28d5e725ff68a3f1f": {
      "model_module": "@jupyter-widgets/base",
      "model_module_version": "2.0.0",
      "model_name": "LayoutModel",
      "state": {}
     },
     "5e86fb2f10c248eea87c0fe3ea762c4b": {
      "model_module": "@jupyter-widgets/base",
      "model_module_version": "2.0.0",
      "model_name": "LayoutModel",
      "state": {}
     },
     "5ecc30f831ac47618c4420eaaaf60033": {
      "model_module": "@jupyter-widgets/base",
      "model_module_version": "2.0.0",
      "model_name": "LayoutModel",
      "state": {}
     },
     "5f66cf10e4a643e5ba94e8a46ec475e7": {
      "model_module": "@jupyter-widgets/base",
      "model_module_version": "2.0.0",
      "model_name": "LayoutModel",
      "state": {}
     },
     "609ab057524f4cdc8910e654800ca47b": {
      "model_module": "@jupyter-widgets/controls",
      "model_module_version": "2.0.0",
      "model_name": "DescriptionStyleModel",
      "state": {
       "description_width": ""
      }
     },
     "620c40a403924bfdbe76367af0f5dff1": {
      "model_module": "@jupyter-widgets/controls",
      "model_module_version": "2.0.0",
      "model_name": "ButtonModel",
      "state": {
       "button_style": "danger",
       "description": "Cancel",
       "disabled": true,
       "layout": "IPY_MODEL_6339e9f031364c03b1c3d7698b7836fa",
       "style": "IPY_MODEL_96df1c78d51d44bb9297cc19519675d8",
       "tooltip": "Send `dismiss` request to WPS server."
      }
     },
     "62578ac0eb024ae5a38309fd8ebb7330": {
      "model_module": "@jupyter-widgets/base",
      "model_module_version": "2.0.0",
      "model_name": "LayoutModel",
      "state": {}
     },
     "6339e9f031364c03b1c3d7698b7836fa": {
      "model_module": "@jupyter-widgets/base",
      "model_module_version": "2.0.0",
      "model_name": "LayoutModel",
      "state": {}
     },
     "658200a4fec042c197c34c3a95cdda0a": {
      "model_module": "@jupyter-widgets/base",
      "model_module_version": "2.0.0",
      "model_name": "LayoutModel",
      "state": {}
     },
     "660c383e640342e8a077e409e4ba353c": {
      "model_module": "@jupyter-widgets/controls",
      "model_module_version": "2.0.0",
      "model_name": "HTMLModel",
      "state": {
       "layout": "IPY_MODEL_8849fd9e091f41f989b910b18c49f5cd",
       "style": "IPY_MODEL_93cba03ad4864ecfa01fe0f8f00adc96",
       "value": "<b>Minimum Temperature Indices</b>"
      }
     },
     "663574427d574dce9c692d7da5fe82a5": {
      "model_module": "@jupyter-widgets/controls",
      "model_module_version": "2.0.0",
      "model_name": "DropdownModel",
      "state": {
       "_options_labels": [
        "Annual",
        "Monthly",
        "Seasonal",
        "January",
        "February",
        "March",
        "April",
        "May",
        "June",
        "July",
        "August",
        "September",
        "October",
        "November",
        "December",
        "Winter-DJF",
        "Spring-MAM",
        "Summer-JJA",
        "Fall-SON"
       ],
       "index": 0,
       "layout": "IPY_MODEL_423b9111a2814a3e827ce803b9454bbb",
       "style": "IPY_MODEL_4cb4770e2f404d2993b7edbeb0564ea8"
      }
     },
     "66f820804b0442d9964c2643b312fd2d": {
      "model_module": "@jupyter-widgets/controls",
      "model_module_version": "2.0.0",
      "model_name": "DropdownModel",
      "state": {
       "_options_labels": [
        "Annual",
        "Monthly",
        "Seasonal",
        "January",
        "February",
        "March",
        "April",
        "May",
        "June",
        "July",
        "August",
        "September",
        "October",
        "November",
        "December",
        "Winter-DJF",
        "Spring-MAM",
        "Summer-JJA",
        "Fall-SON"
       ],
       "index": 0,
       "layout": "IPY_MODEL_74312c9a84f74809aaf113cb07b2a98d",
       "style": "IPY_MODEL_fbb7d66208ac42e6b3ee9340f0146c04"
      }
     },
     "67561dd5c5ef4534828fcfe3fed040cb": {
      "model_module": "@jupyter-widgets/controls",
      "model_module_version": "2.0.0",
      "model_name": "CheckboxStyleModel",
      "state": {
       "description_width": "initial"
      }
     },
     "6767f20d32e14ba997b97ad431f9b79e": {
      "model_module": "@jupyter-widgets/controls",
      "model_module_version": "2.0.0",
      "model_name": "HBoxModel",
      "state": {
       "children": [
        "IPY_MODEL_995ad4f7dc184cafb177d229b7fa527e",
        "IPY_MODEL_e26a33c4d4ff4ce1936a4243ddefa87d"
       ],
       "layout": "IPY_MODEL_96dd51da78634337ab7ec2b1d3e44cf7"
      }
     },
     "681f0f830a0d4b9da92fbb198fd772a9": {
      "model_module": "@jupyter-widgets/controls",
      "model_module_version": "2.0.0",
      "model_name": "HBoxModel",
      "state": {
       "children": [
        "IPY_MODEL_110f3a5bc1a64ee0b980ae957ba7cdc4",
        "IPY_MODEL_3b6144c66aea4567898ed40f4f81ed86"
       ],
       "layout": "IPY_MODEL_e503bc9d15db4baba41578131cf579f1"
      }
     },
     "688cbed81587430788978a3a9e576f1f": {
      "model_module": "@jupyter-widgets/base",
      "model_module_version": "2.0.0",
      "model_name": "LayoutModel",
      "state": {}
     },
     "6a9c2bf8123c43a3805f44e52471e3ab": {
      "model_module": "@jupyter-widgets/controls",
      "model_module_version": "2.0.0",
      "model_name": "HTMLStyleModel",
      "state": {
       "description_width": "initial",
       "font_size": null,
       "text_color": null
      }
     },
     "6b1b3e0d42d841a1a60eb6870a0160f8": {
      "model_module": "@jupyter-widgets/controls",
      "model_module_version": "2.0.0",
      "model_name": "CheckboxModel",
      "state": {
       "description": "Frost Days",
       "disabled": false,
       "layout": "IPY_MODEL_dc25c64d8bde4786bc012df4571c454c",
       "style": "IPY_MODEL_acc59e9a247445298bac15313ce9ade0",
       "value": false
      }
     },
     "6c82c357c7234d6f8fc4340c202cab5d": {
      "model_module": "@jupyter-widgets/base",
      "model_module_version": "2.0.0",
      "model_name": "LayoutModel",
      "state": {}
     },
     "6d09aeca94544e70a9c48ff8f8785ba9": {
      "model_module": "@jupyter-widgets/controls",
      "model_module_version": "2.0.0",
      "model_name": "ButtonStyleModel",
      "state": {
       "font_family": null,
       "font_size": null,
       "font_style": null,
       "font_variant": null,
       "font_weight": null,
       "text_color": null,
       "text_decoration": null
      }
     },
     "6db205ad6259421d84a1a99f56a0d3a3": {
      "model_module": "@jupyter-widgets/controls",
      "model_module_version": "2.0.0",
      "model_name": "DescriptionStyleModel",
      "state": {
       "description_width": ""
      }
     },
     "6dc2cc9a17b045b19fd84a23f08d4197": {
      "model_module": "@jupyter-widgets/controls",
      "model_module_version": "2.0.0",
      "model_name": "HBoxModel",
      "state": {
       "children": [
        "IPY_MODEL_26eddfe78773474ab28d21ceef4c1fcd",
        "IPY_MODEL_3b2ba983fb264b6eb4bade343f7a6c38"
       ],
       "layout": "IPY_MODEL_e277634deeaa47aa840eb44655c9c4c9"
      }
     },
     "6e543e32afd64f9aafc68a5af8a47b91": {
      "model_module": "@jupyter-widgets/controls",
      "model_module_version": "2.0.0",
      "model_name": "DropdownModel",
      "state": {
       "_options_labels": [
        "Annual",
        "Monthly",
        "Seasonal",
        "January",
        "February",
        "March",
        "April",
        "May",
        "June",
        "July",
        "August",
        "September",
        "October",
        "November",
        "December",
        "Winter-DJF",
        "Spring-MAM",
        "Summer-JJA",
        "Fall-SON"
       ],
       "index": 2,
       "layout": "IPY_MODEL_43feec58dc3c4e468d3366c54fee57b0",
       "style": "IPY_MODEL_594fd8b5726749ca97e70769bd9f2be5"
      }
     },
     "6e6b1461c19e4f248f2352dd71cae613": {
      "model_module": "@jupyter-widgets/controls",
      "model_module_version": "2.0.0",
      "model_name": "HBoxModel",
      "state": {
       "children": [
        "IPY_MODEL_c6edcc90099b48538276e45497bcec03",
        "IPY_MODEL_7e9851ebce3a4d7cbcc1d58bf0ba91bc"
       ],
       "layout": "IPY_MODEL_adebf84fca5f4482af9264ce85bc2324"
      }
     },
     "6fe53459acfa4ef286115a534080e000": {
      "model_module": "@jupyter-widgets/controls",
      "model_module_version": "2.0.0",
      "model_name": "CheckboxStyleModel",
      "state": {
       "description_width": "initial"
      }
     },
     "718f2ee86b7a485787076b8104df0713": {
      "model_module": "@jupyter-widgets/base",
      "model_module_version": "2.0.0",
      "model_name": "LayoutModel",
      "state": {}
     },
     "71bf5cb70a084adbafbdc90b4bad6944": {
      "model_module": "@jupyter-widgets/controls",
      "model_module_version": "2.0.0",
      "model_name": "CheckboxModel",
      "state": {
       "description": "Ice Days",
       "disabled": false,
       "layout": "IPY_MODEL_daea495fa8714813a75161e1f540f095",
       "style": "IPY_MODEL_be1b271770f246249b64e3ede505a15e",
       "value": false
      }
     },
     "730703e9be3b4839a07084682ef1940e": {
      "model_module": "@jupyter-widgets/base",
      "model_module_version": "2.0.0",
      "model_name": "LayoutModel",
      "state": {}
     },
     "73eefd044690479db459364f4304e74d": {
      "model_module": "@jupyter-widgets/base",
      "model_module_version": "2.0.0",
      "model_name": "LayoutModel",
      "state": {}
     },
     "74312c9a84f74809aaf113cb07b2a98d": {
      "model_module": "@jupyter-widgets/base",
      "model_module_version": "2.0.0",
      "model_name": "LayoutModel",
      "state": {}
     },
     "78d61084d0874d31b62feae08fa7fe7b": {
      "model_module": "@jupyter-widgets/controls",
      "model_module_version": "2.0.0",
      "model_name": "TextModel",
      "state": {
       "description": "Center:",
       "layout": "IPY_MODEL_941f5d42848d4361a3cc72cfa1114a4a",
       "placeholder": "",
       "style": "IPY_MODEL_17fd16700043401b9a01dea36aac6401",
       "value": "(53.88621, -126.81839)"
      }
     },
     "7a21cc6fd1f84001b1b5c7ca1f742cfb": {
      "model_module": "@jupyter-widgets/controls",
      "model_module_version": "2.0.0",
      "model_name": "DropdownModel",
      "state": {
       "_options_labels": [
        "Annual",
        "Monthly",
        "Seasonal",
        "January",
        "February",
        "March",
        "April",
        "May",
        "June",
        "July",
        "August",
        "September",
        "October",
        "November",
        "December",
        "Winter-DJF",
        "Spring-MAM",
        "Summer-JJA",
        "Fall-SON"
       ],
       "index": 0,
       "layout": "IPY_MODEL_9d3f5313c2114facbb61454b6d2b0485",
       "style": "IPY_MODEL_3492d547212741fe9b02faea1f023221"
      }
     },
     "7a9bcb53ffaa42a2b44eed530607df89": {
      "model_module": "@jupyter-widgets/base",
      "model_module_version": "2.0.0",
      "model_name": "LayoutModel",
      "state": {}
     },
     "7b861b22e8b34730b2b296cadd9bd84a": {
      "model_module": "@jupyter-widgets/controls",
      "model_module_version": "2.0.0",
      "model_name": "HBoxModel",
      "state": {
       "children": [
        "IPY_MODEL_a21d61c8ed0f4f9eb69893d6ebfe6be9",
        "IPY_MODEL_a84e1795804747238c1a1ce0c0f3be71"
       ],
       "layout": "IPY_MODEL_62578ac0eb024ae5a38309fd8ebb7330"
      }
     },
     "7cd64495846d4948ba0225ec3ddf4cd2": {
      "model_module": "@jupyter-widgets/controls",
      "model_module_version": "2.0.0",
      "model_name": "ButtonStyleModel",
      "state": {
       "font_family": null,
       "font_size": null,
       "font_style": null,
       "font_variant": null,
       "font_weight": null,
       "text_color": null,
       "text_decoration": null
      }
     },
     "7cd96676b17c4f62988526b118169938": {
      "model_module": "jupyter-leaflet",
      "model_module_version": "^0.17",
      "model_name": "LeafletTileLayerModel",
      "state": {
       "_model_module_version": "^0.17",
       "_view_module_version": "^0.17",
       "attribution": "&copy; <a href=\"https://www.openstreetmap.org/copyright\">OpenStreetMap</a> contributors",
       "base": true,
       "max_zoom": 19,
       "min_zoom": 1,
       "name": "Default",
       "options": [
        "attribution",
        "bounds",
        "detect_retina",
        "max_native_zoom",
        "max_zoom",
        "min_native_zoom",
        "min_zoom",
        "no_wrap",
        "tile_size",
        "tms",
        "zoom_offset"
       ],
       "url": "https://tile.openstreetmap.org/{z}/{x}/{y}.png"
      }
     },
     "7cff38005dc8489b8dc4956966d65eb0": {
      "model_module": "@jupyter-widgets/base",
      "model_module_version": "2.0.0",
      "model_name": "LayoutModel",
      "state": {}
     },
     "7d8daade0efc4d669cc755fdf529e809": {
      "model_module": "@jupyter-widgets/controls",
      "model_module_version": "2.0.0",
      "model_name": "DescriptionStyleModel",
      "state": {
       "description_width": ""
      }
     },
     "7e9851ebce3a4d7cbcc1d58bf0ba91bc": {
      "model_module": "@jupyter-widgets/controls",
      "model_module_version": "2.0.0",
      "model_name": "DropdownModel",
      "state": {
       "_options_labels": [
        "Annual",
        "Monthly",
        "Seasonal",
        "January",
        "February",
        "March",
        "April",
        "May",
        "June",
        "July",
        "August",
        "September",
        "October",
        "November",
        "December",
        "Winter-DJF",
        "Spring-MAM",
        "Summer-JJA",
        "Fall-SON"
       ],
       "index": 0,
       "layout": "IPY_MODEL_f97a2a388e0042c187e95e7b1f667ac0",
       "style": "IPY_MODEL_3b0c4aeebce44c0c99c27e6b483ae34a"
      }
     },
     "7f83b43cb293448d8d3a96af29c6e3a6": {
      "model_module": "@jupyter-widgets/controls",
      "model_module_version": "2.0.0",
      "model_name": "DescriptionStyleModel",
      "state": {
       "description_width": ""
      }
     },
     "7f8cb7d57f204f5489682a17ec166bc8": {
      "model_module": "@jupyter-widgets/controls",
      "model_module_version": "2.0.0",
      "model_name": "HBoxModel",
      "state": {
       "children": [
        "IPY_MODEL_8cc6fbe35b1544eeabf27d4c5b955b98",
        "IPY_MODEL_0e4458928b264a3b882f338330f7b7b5"
       ],
       "layout": "IPY_MODEL_8faa0f3673c24f09bf281b4f7ed2976e"
      }
     },
     "8064cbfe36c843e6b0e2ac77e76b2a80": {
      "model_module": "@jupyter-widgets/base",
      "model_module_version": "2.0.0",
      "model_name": "LayoutModel",
      "state": {}
     },
     "80ac6a298285441abdf4dd08b58c92c7": {
      "model_module": "@jupyter-widgets/base",
      "model_module_version": "2.0.0",
      "model_name": "LayoutModel",
      "state": {}
     },
     "81a97f04ddfc4a9a91261d394fb67ebd": {
      "model_module": "@jupyter-widgets/controls",
      "model_module_version": "2.0.0",
      "model_name": "DropdownModel",
      "state": {
       "_options_labels": [
        "Annual",
        "Monthly",
        "Seasonal",
        "January",
        "February",
        "March",
        "April",
        "May",
        "June",
        "July",
        "August",
        "September",
        "October",
        "November",
        "December",
        "Winter-DJF",
        "Spring-MAM",
        "Summer-JJA",
        "Fall-SON"
       ],
       "index": 4,
       "layout": "IPY_MODEL_8064cbfe36c843e6b0e2ac77e76b2a80",
       "style": "IPY_MODEL_0cba15b6d6be47ba827a70f24ac2d797"
      }
     },
     "832e020e8f8d4cd2ab5122bad838cbac": {
      "model_module": "@jupyter-widgets/base",
      "model_module_version": "2.0.0",
      "model_name": "LayoutModel",
      "state": {}
     },
     "836eefbafa844bde99f2757ac125d22d": {
      "model_module": "@jupyter-widgets/controls",
      "model_module_version": "2.0.0",
      "model_name": "HBoxModel",
      "state": {
       "children": [
        "IPY_MODEL_e41763f054014bf18b7d901dfcf69a90",
        "IPY_MODEL_eacb1de6929f43e4962e3f04155fc1c8"
       ],
       "layout": "IPY_MODEL_f0c776e4d423483c81f329a7fdf69dd5"
      }
     },
     "8420c6d01b0f483c81d736cd4b59d443": {
      "model_module": "@jupyter-widgets/controls",
      "model_module_version": "2.0.0",
      "model_name": "DescriptionStyleModel",
      "state": {
       "description_width": ""
      }
     },
     "846c78d0f3424a3fb016903a2bf69939": {
      "model_module": "@jupyter-widgets/base",
      "model_module_version": "2.0.0",
      "model_name": "LayoutModel",
      "state": {}
     },
     "84a187518004494ca8a15f0216405ac4": {
      "model_module": "@jupyter-widgets/controls",
      "model_module_version": "2.0.0",
      "model_name": "DescriptionStyleModel",
      "state": {
       "description_width": ""
      }
     },
     "84b83c70144346838846469eebf98ccd": {
      "model_module": "@jupyter-widgets/controls",
      "model_module_version": "2.0.0",
      "model_name": "DropdownModel",
      "state": {
       "_options_labels": [
        "Annual",
        "Monthly",
        "Seasonal",
        "January",
        "February",
        "March",
        "April",
        "May",
        "June",
        "July",
        "August",
        "September",
        "October",
        "November",
        "December",
        "Winter-DJF",
        "Spring-MAM",
        "Summer-JJA",
        "Fall-SON"
       ],
       "index": 0,
       "layout": "IPY_MODEL_ed71e690ce0c4f349cc3a34823f38390",
       "style": "IPY_MODEL_84a187518004494ca8a15f0216405ac4"
      }
     },
     "856bb3225121401d86f944ff50159acd": {
      "model_module": "@jupyter-widgets/base",
      "model_module_version": "2.0.0",
      "model_name": "LayoutModel",
      "state": {}
     },
     "85e19c78b6cb4bb4814180ed55f9aad7": {
      "model_module": "@jupyter-widgets/controls",
      "model_module_version": "2.0.0",
      "model_name": "CheckboxModel",
      "state": {
       "description": "Summer Days",
       "disabled": false,
       "layout": "IPY_MODEL_c20ec79cebf14838ad1cd2d8938164e9",
       "style": "IPY_MODEL_5bec1d088efd4f15859d6f030292d895",
       "value": true
      }
     },
     "86d06e996bd54d1bbb7a9671fc1fa1e4": {
      "model_module": "@jupyter-widgets/controls",
      "model_module_version": "2.0.0",
      "model_name": "ButtonModel",
      "state": {
       "button_style": "danger",
       "description": "Cancel",
       "disabled": true,
       "layout": "IPY_MODEL_fd16e84101664d61b7c99b5e06db6592",
       "style": "IPY_MODEL_7cd64495846d4948ba0225ec3ddf4cd2",
       "tooltip": "Send `dismiss` request to WPS server."
      }
     },
     "87a6700f977f4ca8ae1a3de23979a483": {
      "model_module": "@jupyter-widgets/controls",
      "model_module_version": "2.0.0",
      "model_name": "CheckboxStyleModel",
      "state": {
       "description_width": "initial"
      }
     },
     "87b3c6e6bdce4afd82517f7e2d96b78e": {
      "model_module": "@jupyter-widgets/controls",
      "model_module_version": "2.0.0",
      "model_name": "DescriptionStyleModel",
      "state": {
       "description_width": ""
      }
     },
     "8849fd9e091f41f989b910b18c49f5cd": {
      "model_module": "@jupyter-widgets/base",
      "model_module_version": "2.0.0",
      "model_name": "LayoutModel",
      "state": {}
     },
     "88c4b27a8fb24c1f9038210e8be64e27": {
      "model_module": "@jupyter-widgets/controls",
      "model_module_version": "2.0.0",
      "model_name": "CheckboxStyleModel",
      "state": {
       "description_width": "initial"
      }
     },
     "8918d8bc4bcb4f1590cf28ca0fed6fe1": {
      "model_module": "@jupyter-widgets/base",
      "model_module_version": "2.0.0",
      "model_name": "LayoutModel",
      "state": {}
     },
     "89bf49d5b6574bff92cf48c06e7b6077": {
      "model_module": "jupyter-leaflet",
      "model_module_version": "^0.17",
      "model_name": "LeafletRectangleModel",
      "state": {
       "_model_module_version": "^0.17",
       "_view_module_version": "^0.17",
       "bounds": [
        [
         52.38621,
         -128.31839
        ],
        [
         55.38621,
         -125.31839
        ]
       ],
       "color": "blue",
       "draggable": true,
       "name": "GCM",
       "options": [
        "color",
        "dash_array",
        "draggable",
        "fill",
        "fill_color",
        "fill_opacity",
        "line_cap",
        "line_join",
        "no_clip",
        "opacity",
        "pointer_events",
        "smooth_factor",
        "stroke",
        "transform",
        "weight"
       ],
       "rotation": true,
       "scaling": true,
       "transform": false,
       "uniform_scaling": false
      }
     },
     "8a9f2cd796d142f4ad4f0b207d6bcc14": {
      "model_module": "@jupyter-widgets/controls",
      "model_module_version": "2.0.0",
      "model_name": "VBoxModel",
      "state": {
       "children": [
        "IPY_MODEL_660c383e640342e8a077e409e4ba353c",
        "IPY_MODEL_9d4ae2266d2b41a29185c369df1c0184",
        "IPY_MODEL_6767f20d32e14ba997b97ad431f9b79e",
        "IPY_MODEL_04af4e3b1c4241b88f589c6a1e434a7b",
        "IPY_MODEL_5ae2396f38094f5ebdb70183fc682fcc",
        "IPY_MODEL_2bef2b23355d48adabe3e7832942690a"
       ],
       "layout": "IPY_MODEL_b5997a05b1db4d0eabd3ad65df298f3d"
      }
     },
     "8bad762338d5433886697fcfa71e9d0c": {
      "model_module": "@jupyter-widgets/controls",
      "model_module_version": "2.0.0",
      "model_name": "DescriptionStyleModel",
      "state": {
       "description_width": ""
      }
     },
     "8bcea1c04c104106bc152983a017660e": {
      "model_module": "@jupyter-widgets/base",
      "model_module_version": "2.0.0",
      "model_name": "LayoutModel",
      "state": {}
     },
     "8c99d578f2b24cc8a5a0943849064656": {
      "model_module": "@jupyter-widgets/base",
      "model_module_version": "2.0.0",
      "model_name": "LayoutModel",
      "state": {}
     },
     "8cb5d493be2e4c08b92e35f6d6ee10c4": {
      "model_module": "@jupyter-widgets/controls",
      "model_module_version": "2.0.0",
      "model_name": "HTMLStyleModel",
      "state": {
       "description_width": "initial",
       "font_size": null,
       "text_color": null
      }
     },
     "8cc6fbe35b1544eeabf27d4c5b955b98": {
      "model_module": "@jupyter-widgets/controls",
      "model_module_version": "2.0.0",
      "model_name": "IntProgressModel",
      "state": {
       "bar_style": "success",
       "description": "Complete",
       "layout": "IPY_MODEL_7a9bcb53ffaa42a2b44eed530607df89",
       "style": "IPY_MODEL_23543d86b0f047f89c73ad9b92fb4dbe",
       "value": 100
      }
     },
     "8d0da86fe42f450fb042bc6c5d4dd6aa": {
      "model_module": "@jupyter-widgets/base",
      "model_module_version": "2.0.0",
      "model_name": "LayoutModel",
      "state": {}
     },
     "8f0b448be9cf4665a1edf072870014a4": {
      "model_module": "@jupyter-widgets/controls",
      "model_module_version": "2.0.0",
      "model_name": "IntSliderModel",
      "state": {
       "behavior": "drag-tap",
       "layout": "IPY_MODEL_3944fb2f30a54294b3ac9ff0ead9c819",
       "max": 30,
       "min": 1,
       "style": "IPY_MODEL_25b91bbf15e64215a797c4205e698f2c",
       "value": 1
      }
     },
     "8f3ed574483d49698079f3b79c138212": {
      "model_module": "@jupyter-widgets/controls",
      "model_module_version": "2.0.0",
      "model_name": "HTMLModel",
      "state": {
       "layout": "IPY_MODEL_99fa81120e5a4738922a0ac7f9f1df44",
       "style": "IPY_MODEL_6a9c2bf8123c43a3805f44e52471e3ab",
       "value": "<b>Multivariate Indices</b>"
      }
     },
     "8faa0f3673c24f09bf281b4f7ed2976e": {
      "model_module": "@jupyter-widgets/base",
      "model_module_version": "2.0.0",
      "model_name": "LayoutModel",
      "state": {
       "justify_content": "space-between"
      }
     },
     "9146e6cbe8374ef699cf978ba9096df9": {
      "model_module": "@jupyter-widgets/controls",
      "model_module_version": "2.0.0",
      "model_name": "ProgressStyleModel",
      "state": {
       "description_width": ""
      }
     },
     "91bef611dd974cf8a087c322d126025c": {
      "model_module": "@jupyter-widgets/base",
      "model_module_version": "2.0.0",
      "model_name": "LayoutModel",
      "state": {}
     },
     "932cd9d0c6c24e9b9141d05638c753dc": {
      "model_module": "@jupyter-widgets/controls",
      "model_module_version": "2.0.0",
      "model_name": "RadioButtonsModel",
      "state": {
       "_options_labels": [
        "SSP1-2.6",
        "SSP2-4.5",
        "SSP5-8.5"
       ],
       "description": "CMIP6 emissions scenario:",
       "disabled": true,
       "index": 0,
       "layout": "IPY_MODEL_9e4eca709be143e8852a3b0ecf98c2ff",
       "style": "IPY_MODEL_a69a104109ac439caf28754eaf869a0a"
      }
     },
     "939c3f5e7b4d4b31bfbc05525f58ad28": {
      "model_module": "@jupyter-widgets/base",
      "model_module_version": "2.0.0",
      "model_name": "LayoutModel",
      "state": {}
     },
     "93a856f7c4974a0288bbd30b3d877c5d": {
      "model_module": "@jupyter-widgets/controls",
      "model_module_version": "2.0.0",
      "model_name": "DescriptionStyleModel",
      "state": {
       "description_width": "100px"
      }
     },
     "93cba03ad4864ecfa01fe0f8f00adc96": {
      "model_module": "@jupyter-widgets/controls",
      "model_module_version": "2.0.0",
      "model_name": "HTMLStyleModel",
      "state": {
       "description_width": "initial",
       "font_size": null,
       "text_color": null
      }
     },
     "941f5d42848d4361a3cc72cfa1114a4a": {
      "model_module": "@jupyter-widgets/base",
      "model_module_version": "2.0.0",
      "model_name": "LayoutModel",
      "state": {}
     },
     "946f1af9f1e84128a58d1a2b32d5d3dc": {
      "model_module": "@jupyter-widgets/controls",
      "model_module_version": "2.0.0",
      "model_name": "VBoxModel",
      "state": {
       "children": [
        "IPY_MODEL_33fa272de8674f6eb5f0327f50ba416d",
        "IPY_MODEL_d43044e48ab54f9eb2a3ceab39172bfa",
        "IPY_MODEL_ae772e0be5c84893ba216cb4576e16cf",
        "IPY_MODEL_b6b29a8b018b44d6bd55e83c22a24400",
        "IPY_MODEL_1873cd1b072a4d2ba47c78bfb02b2181",
        "IPY_MODEL_a6fc0943b1464abd99c77b92770c1d21",
        "IPY_MODEL_152a40192c4349a69c380fe2c117dbaf",
        "IPY_MODEL_56e0dd904d1c4be8905568b4d2073d41",
        "IPY_MODEL_5baaf1e074af4bf8acf7a9ab93550d07"
       ],
       "layout": "IPY_MODEL_e7cea89142064c268f0b743b4b7e9473"
      }
     },
     "948ab48af16a411ba2db05d6f0d9816c": {
      "model_module": "@jupyter-widgets/controls",
      "model_module_version": "2.0.0",
      "model_name": "ProgressStyleModel",
      "state": {
       "description_width": ""
      }
     },
     "96dd51da78634337ab7ec2b1d3e44cf7": {
      "model_module": "@jupyter-widgets/base",
      "model_module_version": "2.0.0",
      "model_name": "LayoutModel",
      "state": {}
     },
     "96df1c78d51d44bb9297cc19519675d8": {
      "model_module": "@jupyter-widgets/controls",
      "model_module_version": "2.0.0",
      "model_name": "ButtonStyleModel",
      "state": {
       "font_family": null,
       "font_size": null,
       "font_style": null,
       "font_variant": null,
       "font_weight": null,
       "text_color": null,
       "text_decoration": null
      }
     },
     "97ad3b72279845d29b99f5101da8d9a9": {
      "model_module": "@jupyter-widgets/base",
      "model_module_version": "2.0.0",
      "model_name": "LayoutModel",
      "state": {}
     },
     "981af1db5f1246b7aa2d10f337bd231f": {
      "model_module": "@jupyter-widgets/base",
      "model_module_version": "2.0.0",
      "model_name": "LayoutModel",
      "state": {
       "justify_content": "space-between"
      }
     },
     "9836598d1fb1457e98531bf2634add88": {
      "model_module": "@jupyter-widgets/base",
      "model_module_version": "2.0.0",
      "model_name": "LayoutModel",
      "state": {}
     },
     "98f849f90f3e400e8c3263042845077b": {
      "model_module": "@jupyter-widgets/base",
      "model_module_version": "2.0.0",
      "model_name": "LayoutModel",
      "state": {}
     },
     "995ad4f7dc184cafb177d229b7fa527e": {
      "model_module": "@jupyter-widgets/controls",
      "model_module_version": "2.0.0",
      "model_name": "CheckboxModel",
      "state": {
       "description": "Tropical Nights",
       "disabled": false,
       "layout": "IPY_MODEL_1f63dd82cb4342b39c1e1ef8d6c17ee4",
       "style": "IPY_MODEL_0d4ae53063cf4769b494cc597f6a1271",
       "value": false
      }
     },
     "99fa81120e5a4738922a0ac7f9f1df44": {
      "model_module": "@jupyter-widgets/base",
      "model_module_version": "2.0.0",
      "model_name": "LayoutModel",
      "state": {}
     },
     "9adb70c3bff0455f8120cb949f8bf2e6": {
      "model_module": "@jupyter-widgets/controls",
      "model_module_version": "2.0.0",
      "model_name": "CheckboxModel",
      "state": {
       "description": "Coldest Nights",
       "disabled": false,
       "layout": "IPY_MODEL_2a2137bddc91473b8bc36b0d863aa5b2",
       "style": "IPY_MODEL_c012a8ba20d945d99a87d089e80829d7",
       "value": false
      }
     },
     "9b611fe2b9664a82980604b29343bfae": {
      "model_module": "@jupyter-widgets/base",
      "model_module_version": "2.0.0",
      "model_name": "LayoutModel",
      "state": {}
     },
     "9c76a5d2ffdd46bf990a32c5b73f6aa2": {
      "model_module": "@jupyter-widgets/controls",
      "model_module_version": "2.0.0",
      "model_name": "CheckboxModel",
      "state": {
       "description": "Hottest Nights",
       "disabled": false,
       "layout": "IPY_MODEL_80ac6a298285441abdf4dd08b58c92c7",
       "style": "IPY_MODEL_d5c03dfde1ce4e40826849599d4e772c",
       "value": true
      }
     },
     "9d3f5313c2114facbb61454b6d2b0485": {
      "model_module": "@jupyter-widgets/base",
      "model_module_version": "2.0.0",
      "model_name": "LayoutModel",
      "state": {}
     },
     "9d4ae2266d2b41a29185c369df1c0184": {
      "model_module": "@jupyter-widgets/controls",
      "model_module_version": "2.0.0",
      "model_name": "HBoxModel",
      "state": {
       "children": [
        "IPY_MODEL_6b1b3e0d42d841a1a60eb6870a0160f8",
        "IPY_MODEL_32ec353ce2c84e3f8e2a024f4eac9170"
       ],
       "layout": "IPY_MODEL_cd4cb394549c4d9a8b3a1d554db0804b"
      }
     },
     "9e4eca709be143e8852a3b0ecf98c2ff": {
      "model_module": "@jupyter-widgets/base",
      "model_module_version": "2.0.0",
      "model_name": "LayoutModel",
      "state": {}
     },
     "9e83c9431ceb4ffda2611411c5663a77": {
      "model_module": "@jupyter-widgets/controls",
      "model_module_version": "2.0.0",
      "model_name": "HBoxModel",
      "state": {
       "children": [
        "IPY_MODEL_b80c463b6d4f4241a277cafa826e0842",
        "IPY_MODEL_d997b0a8f5c8493cb110105ec727d431"
       ],
       "layout": "IPY_MODEL_c3a7c6f1a83f44ca90eef7243835e638"
      }
     },
     "9efdc43b834f484481ed79bed8cd6402": {
      "model_module": "@jupyter-widgets/base",
      "model_module_version": "2.0.0",
      "model_name": "LayoutModel",
      "state": {}
     },
     "9fd47cb2351d4562bfe760ef2ec269ec": {
      "model_module": "@jupyter-widgets/controls",
      "model_module_version": "2.0.0",
      "model_name": "DropdownModel",
      "state": {
       "_options_labels": [
        "r1i1p2f1",
        "r2i1p2f1",
        "r3i1p2f1",
        "r4i1p2f1",
        "r5i1p2f1",
        "r6i1p2f1",
        "r7i1p2f1",
        "r8i1p2f1",
        "r9i1p2f1",
        "r10i1p2f1"
       ],
       "description": "CanESM5 run:",
       "disabled": true,
       "index": 0,
       "layout": "IPY_MODEL_3392b7138cb443ffa420c338da5ec079",
       "style": "IPY_MODEL_93a856f7c4974a0288bbd30b3d877c5d"
      }
     },
     "a0ab7caa975e4c23a3f7e8b53e16ceb4": {
      "model_module": "@jupyter-widgets/base",
      "model_module_version": "2.0.0",
      "model_name": "LayoutModel",
      "state": {}
     },
     "a1533844ac6441bfbad805e5e3ee993f": {
      "model_module": "@jupyter-widgets/base",
      "model_module_version": "2.0.0",
      "model_name": "LayoutModel",
      "state": {}
     },
     "a15c009064874a7e905a14fc5b1e8e4e": {
      "model_module": "@jupyter-widgets/base",
      "model_module_version": "2.0.0",
      "model_name": "LayoutModel",
      "state": {}
     },
     "a21d61c8ed0f4f9eb69893d6ebfe6be9": {
      "model_module": "@jupyter-widgets/controls",
      "model_module_version": "2.0.0",
      "model_name": "CheckboxModel",
      "state": {
       "description": "Growing Season Length",
       "disabled": false,
       "layout": "IPY_MODEL_5e86fb2f10c248eea87c0fe3ea762c4b",
       "style": "IPY_MODEL_014f5e7ebc2440929aa61201ca8fa667",
       "value": true
      }
     },
     "a2f11edff72b457eaf48a6bf2d5330c4": {
      "model_module": "@jupyter-widgets/controls",
      "model_module_version": "2.0.0",
      "model_name": "RadioButtonsModel",
      "state": {
       "_options_labels": [
        "pr",
        "tasmax",
        "tasmin",
        "tasmean"
       ],
       "description": "Climate variable:",
       "index": 3,
       "layout": "IPY_MODEL_91bef611dd974cf8a087c322d126025c",
       "style": "IPY_MODEL_8420c6d01b0f483c81d736cd4b59d443"
      }
     },
     "a356a0cf7bb44271a9d5d26c8acb1009": {
      "model_module": "@jupyter-widgets/controls",
      "model_module_version": "2.0.0",
      "model_name": "CheckboxModel",
      "state": {
       "description": "Cooling Degree Days",
       "disabled": false,
       "layout": "IPY_MODEL_259ed5e07e1c476fb2d5e6d1d83e4f69",
       "style": "IPY_MODEL_d01c649b4e874d3ba3884f9a91efe8dd",
       "value": false
      }
     },
     "a4f15659b9514affbbf01a154c997df7": {
      "model_module": "@jupyter-widgets/controls",
      "model_module_version": "2.0.0",
      "model_name": "HTMLModel",
      "state": {
       "layout": "IPY_MODEL_e39b8ec141fa43d2befc86c3e4658f1e",
       "style": "IPY_MODEL_8cb5d493be2e4c08b92e35f6d6ee10c4",
       "value": "<b>Maximum Temperature Indices</b>"
      }
     },
     "a69a104109ac439caf28754eaf869a0a": {
      "model_module": "@jupyter-widgets/controls",
      "model_module_version": "2.0.0",
      "model_name": "DescriptionStyleModel",
      "state": {
       "description_width": ""
      }
     },
     "a69e5b53bb1e4a8da1ffb8c5ebea43ea": {
      "model_module": "@jupyter-widgets/base",
      "model_module_version": "2.0.0",
      "model_name": "LayoutModel",
      "state": {}
     },
     "a6c29bab9fce4c01bab3b225fb39505f": {
      "model_module": "@jupyter-widgets/controls",
      "model_module_version": "2.0.0",
      "model_name": "HTMLStyleModel",
      "state": {
       "description_width": "initial",
       "font_size": null,
       "text_color": null
      }
     },
     "a6fc0943b1464abd99c77b92770c1d21": {
      "model_module": "@jupyter-widgets/controls",
      "model_module_version": "2.0.0",
      "model_name": "CheckboxModel",
      "state": {
       "description": "https://marble-dev01.pcic.uvic.ca/twitcher/ows/proxy/thredds/dodsC/datasets/storage/data/projects/comp_support/daccs/test-data/chickadee_CI_outputs/tasmin_PNWNAmet_target_198101-201012_on-demand.nc",
       "disabled": false,
       "layout": "IPY_MODEL_d4b624aadcaf46ac9f5ab3f225c39d0e",
       "style": "IPY_MODEL_67561dd5c5ef4534828fcfe3fed040cb",
       "value": true
      }
     },
     "a84e1795804747238c1a1ce0c0f3be71": {
      "model_module": "@jupyter-widgets/controls",
      "model_module_version": "2.0.0",
      "model_name": "DropdownModel",
      "state": {
       "_options_labels": [
        "Annual",
        "Monthly",
        "Seasonal"
       ],
       "index": 1,
       "layout": "IPY_MODEL_73eefd044690479db459364f4304e74d",
       "style": "IPY_MODEL_8bad762338d5433886697fcfa71e9d0c"
      }
     },
     "a89a0a1581b3418296efb5beff87ebd9": {
      "model_module": "@jupyter-widgets/base",
      "model_module_version": "2.0.0",
      "model_name": "LayoutModel",
      "state": {}
     },
     "acc59e9a247445298bac15313ce9ade0": {
      "model_module": "@jupyter-widgets/controls",
      "model_module_version": "2.0.0",
      "model_name": "CheckboxStyleModel",
      "state": {
       "description_width": "initial"
      }
     },
     "acf9f176a3814d6b9239855e61e25627": {
      "model_module": "@jupyter-widgets/output",
      "model_module_version": "1.0.0",
      "model_name": "OutputModel",
      "state": {
       "layout": "IPY_MODEL_a69e5b53bb1e4a8da1ffb8c5ebea43ea",
       "outputs": [
        {
         "name": "stdout",
         "output_type": "stream",
         "text": "Computing Total Precip from https://marble-dev01.pcic.uvic.ca/twitcher/ows/proxy/thredds/dodsC/datasets/storage/data/projects/comp_support/daccs/test-data/chickadee_CI_outputs/pr_PNWNAmet_target_198101-201012_on-demand.nc.\n"
        },
        {
         "data": {
          "application/vnd.jupyter.widget-view+json": {
           "model_id": "e504905e72a4468e8303680db7128143",
           "version_major": 2,
           "version_minor": 0
          },
          "text/plain": "HBox(children=(IntProgress(value=0, bar_style='info', description='Processing:'), Button(button_style='danger'…"
         },
         "metadata": {},
         "output_type": "display_data"
        },
        {
         "name": "stdout",
         "output_type": "stream",
         "text": "Computing Summer Days from https://marble-dev01.pcic.uvic.ca/twitcher/ows/proxy/thredds/dodsC/datasets/storage/data/projects/comp_support/daccs/test-data/chickadee_CI_outputs/tasmax_PNWNAmet_target_198101-201012_on-demand.nc.\n"
        },
        {
         "data": {
          "application/vnd.jupyter.widget-view+json": {
           "model_id": "1c40de5f21714844b08c21035c3df4e1",
           "version_major": 2,
           "version_minor": 0
          },
          "text/plain": "HBox(children=(IntProgress(value=0, bar_style='info', description='Processing:'), Button(button_style='danger'…"
         },
         "metadata": {},
         "output_type": "display_data"
        },
        {
         "name": "stdout",
         "output_type": "stream",
         "text": "Computing Hottest Nights from https://marble-dev01.pcic.uvic.ca/twitcher/ows/proxy/thredds/dodsC/datasets/storage/data/projects/comp_support/daccs/test-data/chickadee_CI_outputs/tasmin_PNWNAmet_target_198101-201012_on-demand.nc.\n"
        },
        {
         "data": {
          "application/vnd.jupyter.widget-view+json": {
           "model_id": "681f0f830a0d4b9da92fbb198fd772a9",
           "version_major": 2,
           "version_minor": 0
          },
          "text/plain": "HBox(children=(IntProgress(value=0, bar_style='info', description='Processing:'), Button(button_style='danger'…"
         },
         "metadata": {},
         "output_type": "display_data"
        },
        {
         "name": "stdout",
         "output_type": "stream",
         "text": "Computing Growing Season Length from https://marble-dev01.pcic.uvic.ca/twitcher/ows/proxy/thredds/dodsC/datasets/birdhouse_wps_outputs/0dcb917e-1ed0-11ef-a458-0242ac120006/tasmean_PNWNAmet_target_198101-201012_on-demand.nc.\n"
        },
        {
         "data": {
          "application/vnd.jupyter.widget-view+json": {
           "model_id": "d9d1f59608ea4934924eb269d1b8ae71",
           "version_major": 2,
           "version_minor": 0
          },
          "text/plain": "HBox(children=(IntProgress(value=0, bar_style='info', description='Processing:'), Button(button_style='danger'…"
         },
         "metadata": {},
         "output_type": "display_data"
        }
       ]
      }
     },
     "adda5cd390fb4252b3bb36504f00398c": {
      "model_module": "@jupyter-widgets/base",
      "model_module_version": "2.0.0",
      "model_name": "LayoutModel",
      "state": {}
     },
     "adebf84fca5f4482af9264ce85bc2324": {
      "model_module": "@jupyter-widgets/base",
      "model_module_version": "2.0.0",
      "model_name": "LayoutModel",
      "state": {}
     },
     "ae772e0be5c84893ba216cb4576e16cf": {
      "model_module": "@jupyter-widgets/controls",
      "model_module_version": "2.0.0",
      "model_name": "HTMLModel",
      "state": {
       "layout": "IPY_MODEL_a89a0a1581b3418296efb5beff87ebd9",
       "style": "IPY_MODEL_a6c29bab9fce4c01bab3b225fb39505f",
       "value": "<b>tasmax</b>"
      }
     },
     "aed9110254f54cc4b35bdae80bedf9fa": {
      "model_module": "@jupyter-widgets/controls",
      "model_module_version": "2.0.0",
      "model_name": "CheckboxStyleModel",
      "state": {
       "description_width": "initial"
      }
     },
     "b08927692f044a3a81c6e15aa4ea8a2f": {
      "model_module": "@jupyter-widgets/controls",
      "model_module_version": "2.0.0",
      "model_name": "IntProgressModel",
      "state": {
       "bar_style": "success",
       "description": "Complete",
       "layout": "IPY_MODEL_47765e088dbe482d874af6bfca993714",
       "style": "IPY_MODEL_948ab48af16a411ba2db05d6f0d9816c",
       "value": 100
      }
     },
     "b22451d3faaa46a6a82f23c91cfc8ce3": {
      "model_module": "@jupyter-widgets/controls",
      "model_module_version": "2.0.0",
      "model_name": "DescriptionStyleModel",
      "state": {
       "description_width": ""
      }
     },
     "b3c70163f564490989bbf2aa7c13145c": {
      "model_module": "@jupyter-widgets/controls",
      "model_module_version": "2.0.0",
      "model_name": "ButtonStyleModel",
      "state": {
       "font_family": null,
       "font_size": null,
       "font_style": null,
       "font_variant": null,
       "font_weight": null,
       "text_color": null,
       "text_decoration": null
      }
     },
     "b3d36594db1a40eb9e413d7e5612182e": {
      "model_module": "@jupyter-widgets/controls",
      "model_module_version": "2.0.0",
      "model_name": "IntSliderModel",
      "state": {
       "behavior": "drag-tap",
       "layout": "IPY_MODEL_832e020e8f8d4cd2ab5122bad838cbac",
       "max": 10,
       "min": 1,
       "style": "IPY_MODEL_1933e07518ad4079932714cffa1c96c0",
       "value": 1
      }
     },
     "b43abc237c0149e3bf5a468898fa9ac3": {
      "model_module": "@jupyter-widgets/base",
      "model_module_version": "2.0.0",
      "model_name": "LayoutModel",
      "state": {}
     },
     "b47a37d174cd4cd3a420ac2d0a74454d": {
      "model_module": "@jupyter-widgets/base",
      "model_module_version": "2.0.0",
      "model_name": "LayoutModel",
      "state": {}
     },
     "b4c67f7cea6f43bb9d04dd36c8ccd160": {
      "model_module": "@jupyter-widgets/controls",
      "model_module_version": "2.0.0",
      "model_name": "CheckboxModel",
      "state": {
       "description": "Max n-day Precip Amount",
       "disabled": false,
       "layout": "IPY_MODEL_a1533844ac6441bfbad805e5e3ee993f",
       "style": "IPY_MODEL_c766ba2821774799a0e6e256f7c0caa1",
       "value": false
      }
     },
     "b55052d5ddb74345ba8cb346f90d9727": {
      "model_module": "@jupyter-widgets/controls",
      "model_module_version": "2.0.0",
      "model_name": "TextStyleModel",
      "state": {
       "description_width": "",
       "font_size": null,
       "text_color": null
      }
     },
     "b5997a05b1db4d0eabd3ad65df298f3d": {
      "model_module": "@jupyter-widgets/base",
      "model_module_version": "2.0.0",
      "model_name": "LayoutModel",
      "state": {}
     },
     "b6a11c40c69d43bfa5563c628f8fc87a": {
      "model_module": "@jupyter-widgets/controls",
      "model_module_version": "2.0.0",
      "model_name": "HBoxModel",
      "state": {
       "children": [
        "IPY_MODEL_dfd0f6c37052439486519edeaf028d86",
        "IPY_MODEL_ebeee38ad2814167a97f1262375ad1b7"
       ],
       "layout": "IPY_MODEL_e223aaaf4d4045139c9923ef3ce56f84"
      }
     },
     "b6b29a8b018b44d6bd55e83c22a24400": {
      "model_module": "@jupyter-widgets/controls",
      "model_module_version": "2.0.0",
      "model_name": "CheckboxModel",
      "state": {
       "description": "https://marble-dev01.pcic.uvic.ca/twitcher/ows/proxy/thredds/dodsC/datasets/storage/data/projects/comp_support/daccs/test-data/chickadee_CI_outputs/tasmax_PNWNAmet_target_198101-201012_on-demand.nc",
       "disabled": false,
       "layout": "IPY_MODEL_ee5d2cbab89e496c88ac0d2817ff231d",
       "style": "IPY_MODEL_40c2cd1e0a2749518e66a9ebf0d46efd",
       "value": true
      }
     },
     "b6cdcf75ce784c8fbbb633affcdbe7e2": {
      "model_module": "@jupyter-widgets/base",
      "model_module_version": "2.0.0",
      "model_name": "LayoutModel",
      "state": {}
     },
     "b80c463b6d4f4241a277cafa826e0842": {
      "model_module": "@jupyter-widgets/controls",
      "model_module_version": "2.0.0",
      "model_name": "CheckboxModel",
      "state": {
       "description": "Growing Degree Days",
       "disabled": false,
       "layout": "IPY_MODEL_730703e9be3b4839a07084682ef1940e",
       "style": "IPY_MODEL_87a6700f977f4ca8ae1a3de23979a483",
       "value": false
      }
     },
     "b8c6d1ce472d4dd6a703dec8c10dfbcc": {
      "model_module": "@jupyter-widgets/controls",
      "model_module_version": "2.0.0",
      "model_name": "SliderStyleModel",
      "state": {
       "description_width": ""
      }
     },
     "b8d4a7541a2148d8b9c6b96c4ec35016": {
      "model_module": "@jupyter-widgets/controls",
      "model_module_version": "2.0.0",
      "model_name": "ButtonStyleModel",
      "state": {
       "font_family": null,
       "font_size": null,
       "font_style": null,
       "font_variant": null,
       "font_weight": null,
       "text_color": null,
       "text_decoration": null
      }
     },
     "bb36357cd48a458f8cb1d092772f9b89": {
      "model_module": "@jupyter-widgets/controls",
      "model_module_version": "2.0.0",
      "model_name": "HBoxModel",
      "state": {
       "children": [
        "IPY_MODEL_14ff737de152455ca57bd47bef39eece",
        "IPY_MODEL_4ed672f17edd47e38de2e9741ffe2098",
        "IPY_MODEL_8a9f2cd796d142f4ad4f0b207d6bcc14",
        "IPY_MODEL_55766f38adc54d9e99917dbb6bff266a",
        "IPY_MODEL_5d093ef7f4c647cb967c74c22256c1d1"
       ],
       "layout": "IPY_MODEL_98f849f90f3e400e8c3263042845077b"
      }
     },
     "bc1f112c3ed741b5a7fe0795bdac094b": {
      "model_module": "@jupyter-widgets/base",
      "model_module_version": "2.0.0",
      "model_name": "LayoutModel",
      "state": {}
     },
     "be1b271770f246249b64e3ede505a15e": {
      "model_module": "@jupyter-widgets/controls",
      "model_module_version": "2.0.0",
      "model_name": "CheckboxStyleModel",
      "state": {
       "description_width": "initial"
      }
     },
     "bea109a34acb4342a03e84f8a74959c2": {
      "model_module": "@jupyter-widgets/controls",
      "model_module_version": "2.0.0",
      "model_name": "CheckboxStyleModel",
      "state": {
       "description_width": "initial"
      }
     },
     "c012a8ba20d945d99a87d089e80829d7": {
      "model_module": "@jupyter-widgets/controls",
      "model_module_version": "2.0.0",
      "model_name": "CheckboxStyleModel",
      "state": {
       "description_width": "initial"
      }
     },
     "c20ec79cebf14838ad1cd2d8938164e9": {
      "model_module": "@jupyter-widgets/base",
      "model_module_version": "2.0.0",
      "model_name": "LayoutModel",
      "state": {}
     },
     "c2ff1820314d4b40976a5be6d0b4b820": {
      "model_module": "@jupyter-widgets/controls",
      "model_module_version": "2.0.0",
      "model_name": "CheckboxStyleModel",
      "state": {
       "description_width": "initial"
      }
     },
     "c38ea49f64254eefaee797f093fd6695": {
      "model_module": "@jupyter-widgets/base",
      "model_module_version": "2.0.0",
      "model_name": "LayoutModel",
      "state": {}
     },
     "c3a7c6f1a83f44ca90eef7243835e638": {
      "model_module": "@jupyter-widgets/base",
      "model_module_version": "2.0.0",
      "model_name": "LayoutModel",
      "state": {}
     },
     "c438b36ce12442cb89f5d96a42528df7": {
      "model_module": "@jupyter-widgets/base",
      "model_module_version": "2.0.0",
      "model_name": "LayoutModel",
      "state": {}
     },
     "c6edcc90099b48538276e45497bcec03": {
      "model_module": "@jupyter-widgets/controls",
      "model_module_version": "2.0.0",
      "model_name": "CheckboxModel",
      "state": {
       "description": "Hottest Days",
       "disabled": false,
       "layout": "IPY_MODEL_9b611fe2b9664a82980604b29343bfae",
       "style": "IPY_MODEL_c2ff1820314d4b40976a5be6d0b4b820",
       "value": false
      }
     },
     "c72e6bc928e24155862eb3223cc153ae": {
      "model_module": "@jupyter-widgets/controls",
      "model_module_version": "2.0.0",
      "model_name": "CheckboxStyleModel",
      "state": {
       "description_width": "initial"
      }
     },
     "c766ba2821774799a0e6e256f7c0caa1": {
      "model_module": "@jupyter-widgets/controls",
      "model_module_version": "2.0.0",
      "model_name": "CheckboxStyleModel",
      "state": {
       "description_width": "initial"
      }
     },
     "c81bff58649b4838a165014e372d6a86": {
      "model_module": "@jupyter-widgets/controls",
      "model_module_version": "2.0.0",
      "model_name": "ButtonModel",
      "state": {
       "button_style": "danger",
       "description": "Cancel",
       "disabled": true,
       "layout": "IPY_MODEL_23e1276922eb433884ee46272d69ae2c",
       "style": "IPY_MODEL_4ea55c1130f545098eddca9752d5223e",
       "tooltip": "Send `dismiss` request to WPS server."
      }
     },
     "c9a812ee054e4be0b23882b68a0c24de": {
      "model_module": "@jupyter-widgets/controls",
      "model_module_version": "2.0.0",
      "model_name": "HTMLStyleModel",
      "state": {
       "description_width": "initial",
       "font_size": null,
       "text_color": null
      }
     },
     "ca5ab9c7c7514a90a32c59c428ee9fa6": {
      "model_module": "@jupyter-widgets/base",
      "model_module_version": "2.0.0",
      "model_name": "LayoutModel",
      "state": {}
     },
     "ca8a3c64f26f45f194fde7efc211a73c": {
      "model_module": "@jupyter-widgets/controls",
      "model_module_version": "2.0.0",
      "model_name": "RadioButtonsModel",
      "state": {
       "_options_labels": [
        "197101-200012",
        "198101-201012"
       ],
       "description": "Climatological period:",
       "index": 1,
       "layout": "IPY_MODEL_7cff38005dc8489b8dc4956966d65eb0",
       "style": "IPY_MODEL_e2489ae8ce56401ea695db69ccad5df3"
      }
     },
     "cd0ec535755743c8b9d433d4172e52d3": {
      "model_module": "@jupyter-widgets/base",
      "model_module_version": "2.0.0",
      "model_name": "LayoutModel",
      "state": {}
     },
     "cd4cb394549c4d9a8b3a1d554db0804b": {
      "model_module": "@jupyter-widgets/base",
      "model_module_version": "2.0.0",
      "model_name": "LayoutModel",
      "state": {}
     },
     "cdaddfd213f3494495d3e8ace86fd4c0": {
      "model_module": "@jupyter-widgets/base",
      "model_module_version": "2.0.0",
      "model_name": "LayoutModel",
      "state": {}
     },
     "cfc6b9c09fb444ef8b8c81c9ef08ca87": {
      "model_module": "@jupyter-widgets/controls",
      "model_module_version": "2.0.0",
      "model_name": "CheckboxStyleModel",
      "state": {
       "description_width": "initial"
      }
     },
     "d01c649b4e874d3ba3884f9a91efe8dd": {
      "model_module": "@jupyter-widgets/controls",
      "model_module_version": "2.0.0",
      "model_name": "CheckboxStyleModel",
      "state": {
       "description_width": "initial"
      }
     },
     "d24cacc994e8405c9df58a0714ad6ea0": {
      "model_module": "@jupyter-widgets/controls",
      "model_module_version": "2.0.0",
      "model_name": "DropdownModel",
      "state": {
       "_options_labels": [
        "Annual",
        "Monthly",
        "Seasonal",
        "January",
        "February",
        "March",
        "April",
        "May",
        "June",
        "July",
        "August",
        "September",
        "October",
        "November",
        "December",
        "Winter-DJF",
        "Spring-MAM",
        "Summer-JJA",
        "Fall-SON"
       ],
       "index": 0,
       "layout": "IPY_MODEL_b6cdcf75ce784c8fbbb633affcdbe7e2",
       "style": "IPY_MODEL_d4504bc099e04e5c8a32fd360b722b61"
      }
     },
     "d3b91c2cba8447cebc609781a3ce86bd": {
      "model_module": "@jupyter-widgets/base",
      "model_module_version": "2.0.0",
      "model_name": "LayoutModel",
      "state": {}
     },
     "d3e2539778cb499c8dc627599ff8390d": {
      "model_module": "@jupyter-widgets/controls",
      "model_module_version": "2.0.0",
      "model_name": "ProgressStyleModel",
      "state": {
       "description_width": ""
      }
     },
     "d43044e48ab54f9eb2a3ceab39172bfa": {
      "model_module": "@jupyter-widgets/controls",
      "model_module_version": "2.0.0",
      "model_name": "CheckboxModel",
      "state": {
       "description": "https://marble-dev01.pcic.uvic.ca/twitcher/ows/proxy/thredds/dodsC/datasets/storage/data/projects/comp_support/daccs/test-data/chickadee_CI_outputs/pr_PNWNAmet_target_198101-201012_on-demand.nc",
       "disabled": false,
       "layout": "IPY_MODEL_8d0da86fe42f450fb042bc6c5d4dd6aa",
       "style": "IPY_MODEL_3e922d54b55d47db8bdd52fc00f37318",
       "value": true
      }
     },
     "d4504bc099e04e5c8a32fd360b722b61": {
      "model_module": "@jupyter-widgets/controls",
      "model_module_version": "2.0.0",
      "model_name": "DescriptionStyleModel",
      "state": {
       "description_width": ""
      }
     },
     "d4b624aadcaf46ac9f5ab3f225c39d0e": {
      "model_module": "@jupyter-widgets/base",
      "model_module_version": "2.0.0",
      "model_name": "LayoutModel",
      "state": {}
     },
     "d5067f67fb5345b59341a99f07f4c753": {
      "model_module": "@jupyter-widgets/controls",
      "model_module_version": "2.0.0",
      "model_name": "HBoxModel",
      "state": {
       "children": [
        "IPY_MODEL_16a6c969af394824ac4c959675e52302",
        "IPY_MODEL_f984fd4f5a574452ac94f82e289e678a"
       ],
       "layout": "IPY_MODEL_4cdcb11fdebb47b99329eceef1cb8dc5"
      }
     },
     "d510c5adbe3143feb02ae75fa3b09003": {
      "model_module": "jupyter-leaflet",
      "model_module_version": "^0.17",
      "model_name": "LeafletZoomControlModel",
      "state": {
       "_model_module_version": "^0.17",
       "_view_module_version": "^0.17",
       "options": [
        "position",
        "zoom_in_text",
        "zoom_in_title",
        "zoom_out_text",
        "zoom_out_title"
       ]
      }
     },
     "d5c03dfde1ce4e40826849599d4e772c": {
      "model_module": "@jupyter-widgets/controls",
      "model_module_version": "2.0.0",
      "model_name": "CheckboxStyleModel",
      "state": {
       "description_width": "initial"
      }
     },
     "d80a82a37d2741b39c599d21d3df487d": {
      "model_module": "@jupyter-widgets/base",
      "model_module_version": "2.0.0",
      "model_name": "LayoutModel",
      "state": {}
     },
     "d997b0a8f5c8493cb110105ec727d431": {
      "model_module": "@jupyter-widgets/controls",
      "model_module_version": "2.0.0",
      "model_name": "DropdownModel",
      "state": {
       "_options_labels": [
        "Annual",
        "Monthly",
        "Seasonal",
        "January",
        "February",
        "March",
        "April",
        "May",
        "June",
        "July",
        "August",
        "September",
        "October",
        "November",
        "December",
        "Winter-DJF",
        "Spring-MAM",
        "Summer-JJA",
        "Fall-SON"
       ],
       "index": 0,
       "layout": "IPY_MODEL_f349a8901bad45b68c308a50daa34b59",
       "style": "IPY_MODEL_10c6930338ec415f9dfd4c32d9242778"
      }
     },
     "d9d1f59608ea4934924eb269d1b8ae71": {
      "model_module": "@jupyter-widgets/controls",
      "model_module_version": "2.0.0",
      "model_name": "HBoxModel",
      "state": {
       "children": [
        "IPY_MODEL_276a85bb5a554a3084c9e19d02bda5a8",
        "IPY_MODEL_1bdbdbc549734e179aed491d23766853"
       ],
       "layout": "IPY_MODEL_01233f9491034097addf18910358855d"
      }
     },
     "dab1531c40384ea7874a878323976c4e": {
      "model_module": "@jupyter-widgets/controls",
      "model_module_version": "2.0.0",
      "model_name": "CheckboxModel",
      "state": {
       "description": "Total Precip",
       "disabled": false,
       "layout": "IPY_MODEL_846c78d0f3424a3fb016903a2bf69939",
       "style": "IPY_MODEL_bea109a34acb4342a03e84f8a74959c2",
       "value": true
      }
     },
     "daea495fa8714813a75161e1f540f095": {
      "model_module": "@jupyter-widgets/base",
      "model_module_version": "2.0.0",
      "model_name": "LayoutModel",
      "state": {}
     },
     "db1d0169f9f54b4e88accd528a516d7a": {
      "model_module": "@jupyter-widgets/controls",
      "model_module_version": "2.0.0",
      "model_name": "DropdownModel",
      "state": {
       "_options_labels": [
        "Annual",
        "Monthly",
        "Seasonal"
       ],
       "index": 0,
       "layout": "IPY_MODEL_e2e2c37b08c146d2b9da1d8daacf573b",
       "style": "IPY_MODEL_16d1f310c72e4ba89496b63ac0ac475c"
      }
     },
     "dc25c64d8bde4786bc012df4571c454c": {
      "model_module": "@jupyter-widgets/base",
      "model_module_version": "2.0.0",
      "model_name": "LayoutModel",
      "state": {}
     },
     "dce62094e83442d29cdad30e8b10d8cb": {
      "model_module": "@jupyter-widgets/controls",
      "model_module_version": "2.0.0",
      "model_name": "CheckboxStyleModel",
      "state": {
       "description_width": "initial"
      }
     },
     "de7e6ace947f46a8b5f1bf0466ad65e6": {
      "model_module": "@jupyter-widgets/controls",
      "model_module_version": "2.0.0",
      "model_name": "ProgressStyleModel",
      "state": {
       "description_width": ""
      }
     },
     "df863f46147242f5b6dda8d30f0f31d0": {
      "model_module": "@jupyter-widgets/base",
      "model_module_version": "2.0.0",
      "model_name": "LayoutModel",
      "state": {}
     },
     "dfd0f6c37052439486519edeaf028d86": {
      "model_module": "@jupyter-widgets/controls",
      "model_module_version": "2.0.0",
      "model_name": "CheckboxModel",
      "state": {
       "description": "Heating Degree Days",
       "disabled": false,
       "layout": "IPY_MODEL_e2c84c335dff49d7b34e6e6ad7e327ac",
       "style": "IPY_MODEL_aed9110254f54cc4b35bdae80bedf9fa",
       "value": false
      }
     },
     "e07800e1962b464c84554e12dd1ec26d": {
      "model_module": "@jupyter-widgets/controls",
      "model_module_version": "2.0.0",
      "model_name": "CheckboxModel",
      "state": {
       "description": "N-days with Precip over Threshold",
       "disabled": false,
       "layout": "IPY_MODEL_a15c009064874a7e905a14fc5b1e8e4e",
       "style": "IPY_MODEL_0b45ef869d5748dd9660894ee4ffc4f4",
       "value": false
      }
     },
     "e0ab641e6c7049f988ae0efa45a0b178": {
      "model_module": "@jupyter-widgets/base",
      "model_module_version": "2.0.0",
      "model_name": "LayoutModel",
      "state": {}
     },
     "e223aaaf4d4045139c9923ef3ce56f84": {
      "model_module": "@jupyter-widgets/base",
      "model_module_version": "2.0.0",
      "model_name": "LayoutModel",
      "state": {}
     },
     "e2450df7cf8544e28225f06571fba2f9": {
      "model_module": "@jupyter-widgets/controls",
      "model_module_version": "2.0.0",
      "model_name": "BoxModel",
      "state": {
       "children": [
        "IPY_MODEL_0e8df539194941f6a4fb3d5a67292da1",
        "IPY_MODEL_78d61084d0874d31b62feae08fa7fe7b",
        "IPY_MODEL_a2f11edff72b457eaf48a6bf2d5330c4",
        "IPY_MODEL_fe307e7920014923bed74bb08d8c8599",
        "IPY_MODEL_0bd9bdd03a2540979fce781ec45716f1",
        "IPY_MODEL_43ef1a014ecf47fea524a41dea44c59b",
        "IPY_MODEL_9fd47cb2351d4562bfe760ef2ec269ec",
        "IPY_MODEL_932cd9d0c6c24e9b9141d05638c753dc",
        "IPY_MODEL_ca8a3c64f26f45f194fde7efc211a73c",
        "IPY_MODEL_0dd5de46531742b0808815a37e77f6e5"
       ],
       "layout": "IPY_MODEL_5cdb211cb45a4aec9da6e7716cb0ef5d"
      }
     },
     "e2489ae8ce56401ea695db69ccad5df3": {
      "model_module": "@jupyter-widgets/controls",
      "model_module_version": "2.0.0",
      "model_name": "DescriptionStyleModel",
      "state": {
       "description_width": ""
      }
     },
     "e26a33c4d4ff4ce1936a4243ddefa87d": {
      "model_module": "@jupyter-widgets/controls",
      "model_module_version": "2.0.0",
      "model_name": "DropdownModel",
      "state": {
       "_options_labels": [
        "Annual",
        "Monthly",
        "Seasonal",
        "January",
        "February",
        "March",
        "April",
        "May",
        "June",
        "July",
        "August",
        "September",
        "October",
        "November",
        "December",
        "Winter-DJF",
        "Spring-MAM",
        "Summer-JJA",
        "Fall-SON"
       ],
       "index": 0,
       "layout": "IPY_MODEL_f38123a7d6a64513b093bc2126c3884b",
       "style": "IPY_MODEL_0fd604a866ba47ea9873dda8ca2af10a"
      }
     },
     "e277634deeaa47aa840eb44655c9c4c9": {
      "model_module": "@jupyter-widgets/base",
      "model_module_version": "2.0.0",
      "model_name": "LayoutModel",
      "state": {}
     },
     "e2c84c335dff49d7b34e6e6ad7e327ac": {
      "model_module": "@jupyter-widgets/base",
      "model_module_version": "2.0.0",
      "model_name": "LayoutModel",
      "state": {}
     },
     "e2e2c37b08c146d2b9da1d8daacf573b": {
      "model_module": "@jupyter-widgets/base",
      "model_module_version": "2.0.0",
      "model_name": "LayoutModel",
      "state": {}
     },
     "e2fb255c82744de7a0a58e0b77e650f6": {
      "model_module": "jupyter-leaflet",
      "model_module_version": "^0.17",
      "model_name": "LeafletMapStyleModel",
      "state": {
       "_model_module_version": "^0.17"
      }
     },
     "e315495e3bd043c78015167571a8b011": {
      "model_module": "@jupyter-widgets/controls",
      "model_module_version": "2.0.0",
      "model_name": "ButtonModel",
      "state": {
       "button_style": "info",
       "description": "Calculate Indices",
       "layout": "IPY_MODEL_0b13127e36a348c49bc70f53bd066acd",
       "style": "IPY_MODEL_ea2691fb968143c397063a9e879bf806",
       "tooltip": "Click 'Run' to start the climate index calculations"
      }
     },
     "e39b8ec141fa43d2befc86c3e4658f1e": {
      "model_module": "@jupyter-widgets/base",
      "model_module_version": "2.0.0",
      "model_name": "LayoutModel",
      "state": {}
     },
     "e41763f054014bf18b7d901dfcf69a90": {
      "model_module": "@jupyter-widgets/controls",
      "model_module_version": "2.0.0",
      "model_name": "CheckboxModel",
      "state": {
       "description": "Maximum Length of Wet Spell",
       "disabled": false,
       "layout": "IPY_MODEL_df863f46147242f5b6dda8d30f0f31d0",
       "style": "IPY_MODEL_4860c15873ab45ebbd6daff6439db269",
       "value": false
      }
     },
     "e4a8233af51443bea32338f4aceaa177": {
      "model_module": "@jupyter-widgets/controls",
      "model_module_version": "2.0.0",
      "model_name": "HTMLStyleModel",
      "state": {
       "description_width": "initial",
       "font_size": null,
       "text_color": null
      }
     },
     "e503bc9d15db4baba41578131cf579f1": {
      "model_module": "@jupyter-widgets/base",
      "model_module_version": "2.0.0",
      "model_name": "LayoutModel",
      "state": {
       "justify_content": "space-between"
      }
     },
     "e504905e72a4468e8303680db7128143": {
      "model_module": "@jupyter-widgets/controls",
      "model_module_version": "2.0.0",
      "model_name": "HBoxModel",
      "state": {
       "children": [
        "IPY_MODEL_3de5a1e294964cea9f988b57b11238a9",
        "IPY_MODEL_c81bff58649b4838a165014e372d6a86"
       ],
       "layout": "IPY_MODEL_ef3847560e6f413bb93d706492d79e4f"
      }
     },
     "e542123eb24641288ed0b89e36fa9449": {
      "model_module": "@jupyter-widgets/base",
      "model_module_version": "2.0.0",
      "model_name": "LayoutModel",
      "state": {}
     },
     "e6fa869a2fec4c53ba8e3b2570da9261": {
      "model_module": "@jupyter-widgets/base",
      "model_module_version": "2.0.0",
      "model_name": "LayoutModel",
      "state": {}
     },
     "e701ae4b70e5418faed40d88e796a3ff": {
      "model_module": "@jupyter-widgets/base",
      "model_module_version": "2.0.0",
      "model_name": "LayoutModel",
      "state": {}
     },
     "e7cea89142064c268f0b743b4b7e9473": {
      "model_module": "@jupyter-widgets/base",
      "model_module_version": "2.0.0",
      "model_name": "LayoutModel",
      "state": {}
     },
     "e8a5f1c756e1492ab1b4aa23380a189b": {
      "model_module": "@jupyter-widgets/base",
      "model_module_version": "2.0.0",
      "model_name": "LayoutModel",
      "state": {}
     },
     "ea2691fb968143c397063a9e879bf806": {
      "model_module": "@jupyter-widgets/controls",
      "model_module_version": "2.0.0",
      "model_name": "ButtonStyleModel",
      "state": {
       "font_family": null,
       "font_size": null,
       "font_style": null,
       "font_variant": null,
       "font_weight": null,
       "text_color": null,
       "text_decoration": null
      }
     },
     "eacb1de6929f43e4962e3f04155fc1c8": {
      "model_module": "@jupyter-widgets/controls",
      "model_module_version": "2.0.0",
      "model_name": "DropdownModel",
      "state": {
       "_options_labels": [
        "Annual",
        "Monthly",
        "Seasonal"
       ],
       "index": 0,
       "layout": "IPY_MODEL_fc37496004974fbcbc9aad6be323e8c8",
       "style": "IPY_MODEL_7d8daade0efc4d669cc755fdf529e809"
      }
     },
     "eb48e2d156494411b301a36705c6bc2d": {
      "model_module": "@jupyter-widgets/base",
      "model_module_version": "2.0.0",
      "model_name": "LayoutModel",
      "state": {}
     },
     "ebeee38ad2814167a97f1262375ad1b7": {
      "model_module": "@jupyter-widgets/controls",
      "model_module_version": "2.0.0",
      "model_name": "DropdownModel",
      "state": {
       "_options_labels": [
        "Annual",
        "Monthly",
        "Seasonal",
        "January",
        "February",
        "March",
        "April",
        "May",
        "June",
        "July",
        "August",
        "September",
        "October",
        "November",
        "December",
        "Winter-DJF",
        "Spring-MAM",
        "Summer-JJA",
        "Fall-SON"
       ],
       "index": 0,
       "layout": "IPY_MODEL_bc1f112c3ed741b5a7fe0795bdac094b",
       "style": "IPY_MODEL_f086d5dcb06044c38d551a471b0d427b"
      }
     },
     "ec09fecb44384376ac9677637465fbbb": {
      "model_module": "jupyter-leaflet",
      "model_module_version": "^0.17",
      "model_name": "LeafletRectangleModel",
      "state": {
       "_model_module_version": "^0.17",
       "_view_module_version": "^0.17",
       "bounds": [
        [
         52.63621,
         -128.06839
        ],
        [
         55.13621,
         -125.56839
        ]
       ],
       "color": "red",
       "draggable": true,
       "name": "Obs",
       "options": [
        "color",
        "dash_array",
        "draggable",
        "fill",
        "fill_color",
        "fill_opacity",
        "line_cap",
        "line_join",
        "no_clip",
        "opacity",
        "pointer_events",
        "smooth_factor",
        "stroke",
        "transform",
        "weight"
       ],
       "rotation": true,
       "scaling": true,
       "transform": false,
       "uniform_scaling": false
      }
     },
     "ec9b91c1e7784f73ba5118ea714edf7d": {
      "model_module": "@jupyter-widgets/base",
      "model_module_version": "2.0.0",
      "model_name": "LayoutModel",
      "state": {}
     },
     "ed29739c46e94c318fd132008e4cc8c7": {
      "model_module": "@jupyter-widgets/controls",
      "model_module_version": "2.0.0",
      "model_name": "CheckboxStyleModel",
      "state": {
       "description_width": "initial"
      }
     },
     "ed71e690ce0c4f349cc3a34823f38390": {
      "model_module": "@jupyter-widgets/base",
      "model_module_version": "2.0.0",
      "model_name": "LayoutModel",
      "state": {}
     },
     "edd0f531f22f419687fb4cbbb8621cfa": {
      "model_module": "@jupyter-widgets/controls",
      "model_module_version": "2.0.0",
      "model_name": "ButtonStyleModel",
      "state": {
       "font_family": null,
       "font_size": null,
       "font_style": null,
       "font_variant": null,
       "font_weight": null,
       "text_color": null,
       "text_decoration": null
      }
     },
     "ee5d2cbab89e496c88ac0d2817ff231d": {
      "model_module": "@jupyter-widgets/base",
      "model_module_version": "2.0.0",
      "model_name": "LayoutModel",
      "state": {}
     },
     "ef3847560e6f413bb93d706492d79e4f": {
      "model_module": "@jupyter-widgets/base",
      "model_module_version": "2.0.0",
      "model_name": "LayoutModel",
      "state": {
       "justify_content": "space-between"
      }
     },
     "f086d5dcb06044c38d551a471b0d427b": {
      "model_module": "@jupyter-widgets/controls",
      "model_module_version": "2.0.0",
      "model_name": "DescriptionStyleModel",
      "state": {
       "description_width": ""
      }
     },
     "f0c776e4d423483c81f329a7fdf69dd5": {
      "model_module": "@jupyter-widgets/base",
      "model_module_version": "2.0.0",
      "model_name": "LayoutModel",
      "state": {}
     },
     "f15c7a0d14084ec185b4f03d8f16c964": {
      "model_module": "@jupyter-widgets/controls",
      "model_module_version": "2.0.0",
      "model_name": "HBoxModel",
      "state": {
       "children": [
        "IPY_MODEL_85e19c78b6cb4bb4814180ed55f9aad7",
        "IPY_MODEL_6e543e32afd64f9aafc68a5af8a47b91"
       ],
       "layout": "IPY_MODEL_ca5ab9c7c7514a90a32c59c428ee9fa6"
      }
     },
     "f28746448c844019a8d0ea839279a248": {
      "model_module": "jupyter-leaflet",
      "model_module_version": "^0.17",
      "model_name": "LeafletMapStyleModel",
      "state": {
       "_model_module_version": "^0.17"
      }
     },
     "f2bb642baf8b48629043e2b88d1c9191": {
      "model_module": "@jupyter-widgets/base",
      "model_module_version": "2.0.0",
      "model_name": "LayoutModel",
      "state": {}
     },
     "f349a8901bad45b68c308a50daa34b59": {
      "model_module": "@jupyter-widgets/base",
      "model_module_version": "2.0.0",
      "model_name": "LayoutModel",
      "state": {}
     },
     "f38123a7d6a64513b093bc2126c3884b": {
      "model_module": "@jupyter-widgets/base",
      "model_module_version": "2.0.0",
      "model_name": "LayoutModel",
      "state": {}
     },
     "f6907584018f47ce96c3b25dfab555d3": {
      "model_module": "@jupyter-widgets/base",
      "model_module_version": "2.0.0",
      "model_name": "LayoutModel",
      "state": {}
     },
     "f7ef8bb3d6f340a7a092939e60d03214": {
      "model_module": "@jupyter-widgets/controls",
      "model_module_version": "2.0.0",
      "model_name": "DescriptionStyleModel",
      "state": {
       "description_width": ""
      }
     },
     "f81bc11a6c114fe2b3db5c8bf0ea090d": {
      "model_module": "@jupyter-widgets/controls",
      "model_module_version": "2.0.0",
      "model_name": "IntSliderModel",
      "state": {
       "behavior": "drag-tap",
       "layout": "IPY_MODEL_e6fa869a2fec4c53ba8e3b2570da9261",
       "max": 30,
       "min": 20,
       "style": "IPY_MODEL_5d5ed49891dc4233bf963b9739f47d62",
       "value": 25
      }
     },
     "f97a2a388e0042c187e95e7b1f667ac0": {
      "model_module": "@jupyter-widgets/base",
      "model_module_version": "2.0.0",
      "model_name": "LayoutModel",
      "state": {}
     },
     "f984fd4f5a574452ac94f82e289e678a": {
      "model_module": "@jupyter-widgets/controls",
      "model_module_version": "2.0.0",
      "model_name": "DropdownModel",
      "state": {
       "_options_labels": [
        "Annual",
        "Monthly",
        "Seasonal",
        "January",
        "February",
        "March",
        "April",
        "May",
        "June",
        "July",
        "August",
        "September",
        "October",
        "November",
        "December",
        "Winter-DJF",
        "Spring-MAM",
        "Summer-JJA",
        "Fall-SON"
       ],
       "index": 0,
       "layout": "IPY_MODEL_579086025bc247a1ad6082805d596e59",
       "style": "IPY_MODEL_508bd3ac889d451dba80144ddd52371b"
      }
     },
     "f99eab367f0a4d42baa53436fd5485e9": {
      "model_module": "@jupyter-widgets/controls",
      "model_module_version": "2.0.0",
      "model_name": "HBoxModel",
      "state": {
       "children": [
        "IPY_MODEL_b08927692f044a3a81c6e15aa4ea8a2f",
        "IPY_MODEL_620c40a403924bfdbe76367af0f5dff1"
       ],
       "layout": "IPY_MODEL_981af1db5f1246b7aa2d10f337bd231f"
      }
     },
     "fa6a8bbf1c244ad19b564138828a0bea": {
      "model_module": "@jupyter-widgets/controls",
      "model_module_version": "2.0.0",
      "model_name": "HTMLModel",
      "state": {
       "layout": "IPY_MODEL_b47a37d174cd4cd3a420ac2d0a74454d",
       "style": "IPY_MODEL_112c0cc995264554af7e1f765ee10841",
       "value": "<b>Mean Temperature Indices</b>"
      }
     },
     "fbb7d66208ac42e6b3ee9340f0146c04": {
      "model_module": "@jupyter-widgets/controls",
      "model_module_version": "2.0.0",
      "model_name": "DescriptionStyleModel",
      "state": {
       "description_width": ""
      }
     },
     "fc37496004974fbcbc9aad6be323e8c8": {
      "model_module": "@jupyter-widgets/base",
      "model_module_version": "2.0.0",
      "model_name": "LayoutModel",
      "state": {}
     },
     "fd16e84101664d61b7c99b5e06db6592": {
      "model_module": "@jupyter-widgets/base",
      "model_module_version": "2.0.0",
      "model_name": "LayoutModel",
      "state": {}
     },
     "fe307e7920014923bed74bb08d8c8599": {
      "model_module": "@jupyter-widgets/controls",
      "model_module_version": "2.0.0",
      "model_name": "RadioButtonsModel",
      "state": {
       "_options_labels": [
        "PNWNAmet",
        "CMIP6"
       ],
       "description": "Dataset:",
       "index": 0,
       "layout": "IPY_MODEL_718f2ee86b7a485787076b8104df0713",
       "style": "IPY_MODEL_b22451d3faaa46a6a82f23c91cfc8ce3"
      }
     }
    },
    "version_major": 2,
    "version_minor": 0
   }
  }
 },
 "nbformat": 4,
 "nbformat_minor": 4
}
