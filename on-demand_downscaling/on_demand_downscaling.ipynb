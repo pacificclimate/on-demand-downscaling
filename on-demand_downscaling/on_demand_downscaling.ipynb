{
 "cells": [
  {
   "cell_type": "markdown",
   "metadata": {},
   "source": [
    "# on_demand_downscaling\n",
    "\n",
    "#### This notebook facilitates the workflow for the on-demand downscaling project. Before reading and running the notebook, please read through the `README.md` file. It contains instructions for how to run the notebook, details about the major sections, and some additional information. To open `README.md` in \"Preview\" mode for easier readability, right click on `README.md` at the left of the page, then select <b>Open With&rarr;Markdown Preview</b>.\n",
    "\n",
    "#### If you are ready to proceed, run the cells in <b>steps I, IV, V, VI and VII</b> below in sequence. The other steps are optional.\n",
    "\n",
    "#### If you have run this notebook before and would like to erase any previous activity and files generated, restart the notebook by selecting <b>\"Kernel -> Restart Kernel\" from the top left menu</b>.\n",
    "\n",
    "### *Please note that all output files will be removed from PCIC servers after a period of **two days**. We encourage you to download any data you may need within this timeframe.* "
   ]
  },
  {
   "cell_type": "markdown",
   "metadata": {},
   "source": [
    "## Step 1. Downscaling GCM Data"
   ]
  },
  {
   "cell_type": "markdown",
   "metadata": {},
   "source": [
    "### I. Import `helpers` module to enable loading the interactive map later."
   ]
  },
  {
   "cell_type": "code",
   "execution_count": null,
   "metadata": {},
   "outputs": [],
   "source": [
    "import helpers\n",
    "from helpers import *"
   ]
  },
  {
   "cell_type": "markdown",
   "metadata": {},
   "source": [
    "### II (Optional). Check `url`s used to connect to chickadee/finch."
   ]
  },
  {
   "cell_type": "code",
   "execution_count": null,
   "metadata": {},
   "outputs": [],
   "source": [
    "# NBVAL_IGNORE_OUTPUT\n",
    "print(f\"Using chickadee on {chickadee_url}\")\n",
    "print(f\"Using finch on {finch_url}\")"
   ]
  },
  {
   "cell_type": "markdown",
   "metadata": {},
   "source": [
    "### III (Optional). Display help for individual processes by using the ? command (ex. bird.process?)."
   ]
  },
  {
   "cell_type": "code",
   "execution_count": null,
   "metadata": {},
   "outputs": [],
   "source": [
    "# NBVAL_IGNORE_OUTPUT\n",
    "chickadee.ci?"
   ]
  },
  {
   "cell_type": "code",
   "execution_count": null,
   "metadata": {},
   "outputs": [],
   "source": [
    "# NBVAL_IGNORE_OUTPUT\n",
    "finch.tg?"
   ]
  },
  {
   "cell_type": "markdown",
   "metadata": {},
   "source": [
    "### IV. Load the interactive map to initialize the inputs. Refer to step 1 of `README.md` for more information about the inputs.\n",
    "\n",
    "#### Once the inputs are initialized, you can click the `Run Downscaling` button to start the downscaling process. Please note that only one input variable can be processed at a time. You must click the button again after adjusting your inputs to start processes for other variables.\n",
    "\n",
    "#### Additionally, you may find a message that says `ERROR:root:Could not read status document.` or `ERROR:root:Could not parse XML response.` below the last progress bar while the processes are running. As long as you can see that the progress bars are steadily moving, you can safely ignore those message."
   ]
  },
  {
   "cell_type": "code",
   "execution_count": null,
   "metadata": {},
   "outputs": [],
   "source": [
    "display(AppLayout(center = m, right_sidebar = control_box_downscaling, align_items = 'center'))\n",
    "display(output_widget_downscaling)"
   ]
  },
  {
   "cell_type": "markdown",
   "metadata": {},
   "source": [
    "### V. Check statuses of processes and download the outputs if possible."
   ]
  },
  {
   "cell_type": "code",
   "execution_count": null,
   "metadata": {},
   "outputs": [],
   "source": [
    "downscaled_outputs_dsets = []\n",
    "for var in helpers.downscaled_outputs.keys():\n",
    "    for output in helpers.downscaled_outputs[var]:\n",
    "        get_output(output)\n",
    "        if output.isComplete():\n",
    "            downscaled_output_dset = output_to_dataset(output)\n",
    "            downscaled_outputs_dsets.append(downscaled_output_dset)\n",
    "            print(downscaled_output_dset)\n",
    "            print()"
   ]
  },
  {
   "cell_type": "markdown",
   "metadata": {},
   "source": [
    "## Step 2. Computing Climate Indices"
   ]
  },
  {
   "cell_type": "markdown",
   "metadata": {},
   "source": [
    "### VI. Once downscaling processes are complete, select output files from which climate indices will be computed. Refer to step 2 of `README.md` for more information about the available indices."
   ]
  },
  {
   "cell_type": "markdown",
   "metadata": {},
   "source": [
    "#### (Optional) If you would like to compute indices from downscaled outputs from a previous session, add the urls to the `previous_outputs` list in the cell below and run it (each url must be in quotation marks, and the list must be comma-separated), then they will be added to the list of available output files. Here is an example of such a list:\n",
    "\n",
    "```python\n",
    "previous_outputs = [\"https://marble-dev01.pcic.uvic.ca/wpsoutputs/123456/pr_PNWNAmet_1945-2012_lower-mainland_on-demand.nc\",\n",
    "                    \"https://marble-dev01.pcic.uvic.ca/wpsoutputs/456789/tasmax_CMIP6_BCCAQv2_ACCESS-ESM1-5_ssp245_1950-2010_vancouver_on-demand.nc\",\n",
    "                    \"https://marble-dev01.pcic.uvic.ca/wpsoutputs/987654/tasmin_CMIP6_BCCAQv2_ACCESS-ESM1-5_ssp245_1950-2010_vancouver_on-demand.nc\",\n",
    "                    \"https://marble-dev01.pcic.uvic.ca/wpsoutputs/675849/tasmean_CMIP6_MBCn_CanESM5_r4i1p2f1_ssp126_1981-2100_central-coast_on-demand.nc\"]\n",
    "```"
   ]
  },
  {
   "cell_type": "code",
   "execution_count": null,
   "metadata": {},
   "outputs": [],
   "source": [
    "previous_outputs = []\n",
    "add_previous_downscaled_outputs(previous_outputs)"
   ]
  },
  {
   "cell_type": "markdown",
   "metadata": {},
   "source": [
    "#### Run the cell below to begin initializing the inputs, after which you can click the `Calculate Indices` button to start the processes:\n",
    "\n",
    "#### As for the downscaling step, you may find a message that says `ERROR:root:Could not read status document.` or `ERROR:root:Could not parse XML response.` below the last progress bar. As long as you can see that the progress bars are steadily moving, you can safely ignore those messages."
   ]
  },
  {
   "cell_type": "code",
   "execution_count": null,
   "metadata": {},
   "outputs": [],
   "source": [
    "display_downscaled_outputs()\n",
    "display(helpers.downscaled_output_box, indices, calc_indices)\n",
    "display(output_widget_indices)"
   ]
  },
  {
   "cell_type": "markdown",
   "metadata": {},
   "source": [
    "### VII. As for the downscaling section, check the statuses of the index calculation processes and download the outputs if possible."
   ]
  },
  {
   "cell_type": "code",
   "execution_count": null,
   "metadata": {},
   "outputs": [],
   "source": [
    "index_outputs_dsets = []\n",
    "for output in helpers.index_outputs:\n",
    "    get_output(output)\n",
    "    if output.isComplete():\n",
    "        index_output_dset = output_to_dataset(output)\n",
    "        index_outputs_dsets.append(index_output_dset)\n",
    "        print(index_output_dset)\n",
    "        print()"
   ]
  },
  {
   "cell_type": "code",
   "execution_count": null,
   "metadata": {},
   "outputs": [],
   "source": []
  }
 ],
 "metadata": {
  "kernelspec": {
   "display_name": "Python 3 (ipykernel)",
   "language": "python",
   "name": "python3"
  },
  "language_info": {
   "codemirror_mode": {
    "name": "ipython",
    "version": 3
   },
   "file_extension": ".py",
   "mimetype": "text/x-python",
   "name": "python",
   "nbconvert_exporter": "python",
   "pygments_lexer": "ipython3",
   "version": "3.10.12"
  },
  "widgets": {
   "application/vnd.jupyter.widget-state+json": {
    "state": {},
    "version_major": 2,
    "version_minor": 0
   }
  }
 },
 "nbformat": 4,
 "nbformat_minor": 4
}
